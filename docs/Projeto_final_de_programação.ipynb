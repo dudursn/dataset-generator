{
  "cells": [
    {
      "cell_type": "markdown",
      "source": [
        "## Geração de Datasets RDF para treinamento de sistemas conversacionais"
      ],
      "metadata": {
        "id": "JwqlZ7kxMbrz"
      }
    },
    {
      "cell_type": "code",
      "execution_count": 1,
      "metadata": {
        "colab": {
          "base_uri": "https://localhost:8080/"
        },
        "id": "cQCNrmT9OLUO",
        "outputId": "d2ea50e5-e433-40d2-f1d4-02cab9726861"
      },
      "outputs": [
        {
          "output_type": "stream",
          "name": "stdout",
          "text": [
            "Looking in indexes: https://pypi.org/simple, https://us-python.pkg.dev/colab-wheels/public/simple/\n",
            "Collecting rdflib\n",
            "  Downloading rdflib-6.2.0-py3-none-any.whl (500 kB)\n",
            "\u001b[K     |████████████████████████████████| 500 kB 5.2 MB/s \n",
            "\u001b[?25hCollecting isodate\n",
            "  Downloading isodate-0.6.1-py2.py3-none-any.whl (41 kB)\n",
            "\u001b[K     |████████████████████████████████| 41 kB 330 kB/s \n",
            "\u001b[?25hRequirement already satisfied: pyparsing in /usr/local/lib/python3.8/dist-packages (from rdflib) (3.0.9)\n",
            "Requirement already satisfied: setuptools in /usr/local/lib/python3.8/dist-packages (from rdflib) (57.4.0)\n",
            "Requirement already satisfied: six in /usr/local/lib/python3.8/dist-packages (from isodate->rdflib) (1.15.0)\n",
            "Installing collected packages: isodate, rdflib\n",
            "Successfully installed isodate-0.6.1 rdflib-6.2.0\n"
          ]
        }
      ],
      "source": [
        "!pip install rdflib"
      ]
    },
    {
      "cell_type": "markdown",
      "source": [
        "### Load Dataset\n"
      ],
      "metadata": {
        "id": "wYAQnluGJrv9"
      }
    },
    {
      "cell_type": "code",
      "execution_count": 7,
      "metadata": {
        "colab": {
          "base_uri": "https://localhost:8080/"
        },
        "id": "kL__YGXWPI-e",
        "outputId": "f5d6f99b-d727-452d-b34d-3c41e79d1a9f"
      },
      "outputs": [
        {
          "output_type": "execute_result",
          "data": {
            "text/plain": [
              "<Graph identifier=N8613d5a32799404086f3cd5f7adba1c3 (<class 'rdflib.graph.Graph'>)>"
            ]
          },
          "metadata": {},
          "execution_count": 7
        }
      ],
      "source": [
        "from rdflib import Graph\n",
        "g = Graph()\n",
        "g.parse('sample_data/mondial_europe_dataset.ttl', format='ttl', encoding='utf-8')\n"
      ]
    },
    {
      "cell_type": "markdown",
      "source": [
        "### Quantidade de Triplas"
      ],
      "metadata": {
        "id": "z-2Vvb5HJ1Ft"
      }
    },
    {
      "cell_type": "code",
      "execution_count": 8,
      "metadata": {
        "colab": {
          "base_uri": "https://localhost:8080/"
        },
        "id": "9F7aJyGLb759",
        "outputId": "5c69b742-fec6-4f28-abcc-9c17194644de"
      },
      "outputs": [
        {
          "output_type": "stream",
          "name": "stdout",
          "text": [
            "72450\n"
          ]
        }
      ],
      "source": [
        "print(len(g))"
      ]
    },
    {
      "cell_type": "markdown",
      "source": [
        "### Ver as 50 primeiras triplas"
      ],
      "metadata": {
        "id": "TM8IyVSXJ-4N"
      }
    },
    {
      "cell_type": "code",
      "execution_count": 6,
      "metadata": {
        "colab": {
          "base_uri": "https://localhost:8080/"
        },
        "id": "ZV149a3cmW5q",
        "outputId": "99f06267-d119-4094-e57d-d40592ec6ba7"
      },
      "outputs": [
        {
          "output_type": "stream",
          "name": "stdout",
          "text": [
            "http://www.semwebtech.org/mondial/10/sources/Kamchatka/ http://www.semwebtech.org/mondial/10/meta#locatedIn http://www.semwebtech.org/mondial/10/countries/R/provinces/Kamchatka/\n",
            "http://www.semwebtech.org/mondial/10/countries/BG/ http://www.semwebtech.org/mondial/10/meta#isMember http://www.semwebtech.org/mondial/10/organizations/OSCE/\n",
            "http://www.semwebtech.org/mondial/10/countries/TR/ http://www.semwebtech.org/mondial/10/meta#hadPopulation nf705a3f950614a4ea8cee3a6011eb976b754\n",
            "nf705a3f950614a4ea8cee3a6011eb976b5466 http://www.semwebtech.org/mondial/10/meta#year 1989\n",
            "nf705a3f950614a4ea8cee3a6011eb976b9137 http://www.semwebtech.org/mondial/10/meta#type member\n",
            "http://www.semwebtech.org/mondial/10/countries/IRL/ http://www.semwebtech.org/mondial/10/meta#isMember http://www.semwebtech.org/mondial/10/organizations/ICJ/\n",
            "nf705a3f950614a4ea8cee3a6011eb976b9622 http://www.semwebtech.org/mondial/10/meta#ofMember http://www.semwebtech.org/mondial/10/countries/GR/\n",
            "nf705a3f950614a4ea8cee3a6011eb976b9854 http://www.semwebtech.org/mondial/10/meta#type member\n",
            "http://www.semwebtech.org/mondial/10/estuarys/Zihl/ http://www.semwebtech.org/mondial/10/meta#locatedIn http://www.semwebtech.org/mondial/10/countries/CH/provinces/NeuchÃ¢tel/\n",
            "nf705a3f950614a4ea8cee3a6011eb976b9171 http://www.semwebtech.org/mondial/10/meta#type member\n",
            "nf705a3f950614a4ea8cee3a6011eb976b9492 http://www.w3.org/1999/02/22-rdf-syntax-ns#type http://www.semwebtech.org/mondial/10/meta#Membership\n",
            "nf705a3f950614a4ea8cee3a6011eb976b1670 http://www.w3.org/1999/02/22-rdf-syntax-ns#type http://www.semwebtech.org/mondial/10/meta#PopulationCount\n",
            "nf705a3f950614a4ea8cee3a6011eb976b10273 http://www.semwebtech.org/mondial/10/meta#onReligion http://www.semwebtech.org/mondial/10/religions/Protestant/\n",
            "nf705a3f950614a4ea8cee3a6011eb976b10605 http://www.semwebtech.org/mondial/10/meta#ethnicInfo- http://www.semwebtech.org/mondial/10/countries/L/\n",
            "nf705a3f950614a4ea8cee3a6011eb976b9262 http://www.w3.org/1999/02/22-rdf-syntax-ns#type http://www.semwebtech.org/mondial/10/meta#Membership\n",
            "http://www.semwebtech.org/mondial/10/countries/MC/ http://www.semwebtech.org/mondial/10/meta#isMember http://www.semwebtech.org/mondial/10/organizations/ITSO/\n",
            "nf705a3f950614a4ea8cee3a6011eb976b9190 http://www.semwebtech.org/mondial/10/meta#inOrganization http://www.semwebtech.org/mondial/10/organizations/UN/\n",
            "http://www.semwebtech.org/mondial/10/islands/Veliko+Ratno+Ostrvo/ http://www.w3.org/1999/02/22-rdf-syntax-ns#type http://www.semwebtech.org/mondial/10/meta#Island\n",
            "nf705a3f950614a4ea8cee3a6011eb976b3452 http://www.semwebtech.org/mondial/10/meta#year 2011\n",
            "http://www.semwebtech.org/mondial/10/countries/S/ http://www.semwebtech.org/mondial/10/meta#isMember http://www.semwebtech.org/mondial/10/organizations/IAEA/\n",
            "nf705a3f950614a4ea8cee3a6011eb976b10655 http://www.semwebtech.org/mondial/10/meta#percent 2.2\n",
            "http://www.semwebtech.org/mondial/10/countries/R/provinces/Rostovskaya/cities/Rostov-na-Donu/ http://www.w3.org/1999/02/22-rdf-syntax-ns#type http://www.semwebtech.org/mondial/10/meta#City\n",
            "http://www.semwebtech.org/mondial/10/countries/TR/provinces/Erzurum/cities/Erzurum/ http://www.semwebtech.org/mondial/10/meta#locatedAt http://www.semwebtech.org/mondial/10/rivers/Karasu/\n",
            "nf705a3f950614a4ea8cee3a6011eb976b1880 http://www.semwebtech.org/mondial/10/meta#value 2958066\n",
            "http://www.semwebtech.org/mondial/10/countries/M/ http://www.semwebtech.org/mondial/10/meta#isMember http://www.semwebtech.org/mondial/10/organizations/ICCt/\n",
            "nf705a3f950614a4ea8cee3a6011eb976b5959 http://www.semwebtech.org/mondial/10/meta#year 1987\n",
            "nf705a3f950614a4ea8cee3a6011eb976b10567 http://www.semwebtech.org/mondial/10/meta#percent 0.3\n",
            "nf705a3f950614a4ea8cee3a6011eb976b6196 http://www.semwebtech.org/mondial/10/meta#value 134022\n",
            "http://www.semwebtech.org/mondial/10/countries/F/provinces/Grand+Est/cities/Strasbourg/ http://www.w3.org/1999/02/22-rdf-syntax-ns#type http://www.semwebtech.org/mondial/10/meta#City\n",
            "http://www.semwebtech.org/mondial/10/rivers/Volga/ http://www.semwebtech.org/mondial/10/meta#length 3531\n",
            "http://www.semwebtech.org/mondial/10/countries/S/ http://www.semwebtech.org/mondial/10/meta#population 9555893\n",
            "nf705a3f950614a4ea8cee3a6011eb976b9067 http://www.semwebtech.org/mondial/10/meta#type member\n",
            "http://www.semwebtech.org/mondial/10/countries/E/provinces/Castilla+y+LeÃ³n/ http://www.semwebtech.org/mondial/10/meta#hadPopulation nf705a3f950614a4ea8cee3a6011eb976b930\n",
            "nf705a3f950614a4ea8cee3a6011eb976b1824 http://www.semwebtech.org/mondial/10/meta#value 509541\n",
            "http://www.semwebtech.org/mondial/10/rivers/Donau/ http://www.semwebtech.org/mondial/10/meta#locatedIn http://www.semwebtech.org/mondial/10/countries/D/provinces/Bayern/\n",
            "http://www.semwebtech.org/mondial/10/sources/Maas/ http://www.semwebtech.org/mondial/10/meta#longitude 5.63\n",
            "http://www.semwebtech.org/mondial/10/countries/TR/provinces/TekirdaÄŸ/cities/Tekirdag/ http://www.semwebtech.org/mondial/10/meta#hadPopulation nf705a3f950614a4ea8cee3a6011eb976b6791\n",
            "http://www.semwebtech.org/mondial/10/countries/S/provinces/JÃ¶nkÃ¶ping/ http://www.semwebtech.org/mondial/10/meta#hadPopulation nf705a3f950614a4ea8cee3a6011eb976b2376\n",
            "http://www.semwebtech.org/mondial/10/countries/KZ/provinces/East-Kazakhstan/cities/Ã–skemen/ http://www.semwebtech.org/mondial/10/meta#elevation 283\n",
            "nf705a3f950614a4ea8cee3a6011eb976b9460 http://www.semwebtech.org/mondial/10/meta#inOrganization http://www.semwebtech.org/mondial/10/organizations/UNOCI/\n",
            "http://www.semwebtech.org/mondial/10/sources/Werra/ http://www.w3.org/1999/02/22-rdf-syntax-ns#type http://www.semwebtech.org/mondial/10/meta#Source\n",
            "http://www.semwebtech.org/mondial/10/countries/SRB/ http://www.semwebtech.org/mondial/10/meta#gdpAgri 7.9\n",
            "http://www.semwebtech.org/mondial/10/countries/IRL/ http://www.semwebtech.org/mondial/10/meta#gdpInd 28\n",
            "nf705a3f950614a4ea8cee3a6011eb976b8011 http://www.w3.org/1999/02/22-rdf-syntax-ns#type http://www.semwebtech.org/mondial/10/meta#Membership\n",
            "nf705a3f950614a4ea8cee3a6011eb976b7746 http://www.w3.org/1999/02/22-rdf-syntax-ns#type http://www.semwebtech.org/mondial/10/meta#Membership\n",
            "nf705a3f950614a4ea8cee3a6011eb976b9405 http://www.w3.org/1999/02/22-rdf-syntax-ns#type http://www.semwebtech.org/mondial/10/meta#Membership\n",
            "nf705a3f950614a4ea8cee3a6011eb976b9868 http://www.semwebtech.org/mondial/10/meta#inOrganization http://www.semwebtech.org/mondial/10/organizations/ZC/\n",
            "http://www.semwebtech.org/mondial/10/countries/MD/cities/ChiÅŸinÄƒu/ http://www.semwebtech.org/mondial/10/meta#hadPopulation nf705a3f950614a4ea8cee3a6011eb976b6115\n",
            "http://www.semwebtech.org/mondial/10/countries/S/provinces/SkÃ¥ne/cities/Lund/ http://www.semwebtech.org/mondial/10/meta#population 112950\n",
            "nf705a3f950614a4ea8cee3a6011eb976b6180 http://www.w3.org/1999/02/22-rdf-syntax-ns#type http://www.semwebtech.org/mondial/10/meta#PopulationCount\n"
          ]
        }
      ],
      "source": [
        "j = 50\n",
        "for s, p, o in g:\n",
        "    print(s,p,o)\n",
        "    j-=1\n",
        "    if(j==0):\n",
        "      break\n"
      ]
    },
    {
      "cell_type": "markdown",
      "source": [
        "### Importando os prefixos e criação de um novo prefixo para ser utilizado na consulta SPARQL"
      ],
      "metadata": {
        "id": "j6J_VTL6KHlm"
      }
    },
    {
      "cell_type": "code",
      "source": [
        "from rdflib.namespace import RDF, RDFS, XSD, OWL\n",
        "from rdflib import Namespace\n",
        "\n",
        "site = Namespace(\"http://www.semwebtech.org/mondial/10/meta#\")\n",
        "\n",
        "g.bind(\"owl\", OWL)\n",
        "g.bind(\"rdf\", RDF)\n",
        "g.bind(\"rdfs\", RDFS)\n",
        "g.bind(\"xsd\", XSD)\n",
        "g.bind(\"mon\", site)\n"
      ],
      "metadata": {
        "id": "oM5ss_iwpqEq"
      },
      "execution_count": 17,
      "outputs": []
    },
    {
      "cell_type": "markdown",
      "source": [
        "### Testando uma consulta SPARQL"
      ],
      "metadata": {
        "id": "KG4XRVzCKS-U"
      }
    },
    {
      "cell_type": "code",
      "source": [
        "#Listar todas as instancias do tipo País e seus respectivos nomes \n",
        "sparqlQueries =   {\"x\": \"\"\"\n",
        "     select ?Y ?W   where {?X rdf:type mon:Country; mon:name ?Y;\n",
        "      mon:hadPopulation ?Z . ?Z mon:year ?W .\n",
        "\n",
        "       }\n",
        "    \"\"\"}\n",
        "qres = g.query(\n",
        "   sparqlQueries[\"x\"]\n",
        ")\n",
        "\n",
        "for row in qres:\n",
        "  print(row)"
      ],
      "metadata": {
        "colab": {
          "base_uri": "https://localhost:8080/"
        },
        "id": "-znbhvaArEfg",
        "outputId": "10cc6a97-5b78-437b-938b-84aa13af6712"
      },
      "execution_count": 132,
      "outputs": [
        {
          "output_type": "stream",
          "name": "stdout",
          "text": [
            "(rdflib.term.Literal('Albania'), rdflib.term.Literal('1950', datatype=rdflib.term.URIRef('http://www.w3.org/2001/XMLSchema#gYear')))\n",
            "(rdflib.term.Literal('Albania'), rdflib.term.Literal('1960', datatype=rdflib.term.URIRef('http://www.w3.org/2001/XMLSchema#gYear')))\n",
            "(rdflib.term.Literal('Albania'), rdflib.term.Literal('1970', datatype=rdflib.term.URIRef('http://www.w3.org/2001/XMLSchema#gYear')))\n",
            "(rdflib.term.Literal('Albania'), rdflib.term.Literal('1980', datatype=rdflib.term.URIRef('http://www.w3.org/2001/XMLSchema#gYear')))\n",
            "(rdflib.term.Literal('Albania'), rdflib.term.Literal('1990', datatype=rdflib.term.URIRef('http://www.w3.org/2001/XMLSchema#gYear')))\n",
            "(rdflib.term.Literal('Albania'), rdflib.term.Literal('1997', datatype=rdflib.term.URIRef('http://www.w3.org/2001/XMLSchema#gYear')))\n",
            "(rdflib.term.Literal('Albania'), rdflib.term.Literal('2000', datatype=rdflib.term.URIRef('http://www.w3.org/2001/XMLSchema#gYear')))\n",
            "(rdflib.term.Literal('Albania'), rdflib.term.Literal('2001', datatype=rdflib.term.URIRef('http://www.w3.org/2001/XMLSchema#gYear')))\n",
            "(rdflib.term.Literal('Albania'), rdflib.term.Literal('2011', datatype=rdflib.term.URIRef('http://www.w3.org/2001/XMLSchema#gYear')))\n",
            "(rdflib.term.Literal('Greece'), rdflib.term.Literal('1861', datatype=rdflib.term.URIRef('http://www.w3.org/2001/XMLSchema#gYear')))\n",
            "(rdflib.term.Literal('Greece'), rdflib.term.Literal('1870', datatype=rdflib.term.URIRef('http://www.w3.org/2001/XMLSchema#gYear')))\n",
            "(rdflib.term.Literal('Greece'), rdflib.term.Literal('1879', datatype=rdflib.term.URIRef('http://www.w3.org/2001/XMLSchema#gYear')))\n",
            "(rdflib.term.Literal('Greece'), rdflib.term.Literal('1896', datatype=rdflib.term.URIRef('http://www.w3.org/2001/XMLSchema#gYear')))\n",
            "(rdflib.term.Literal('Greece'), rdflib.term.Literal('1907', datatype=rdflib.term.URIRef('http://www.w3.org/2001/XMLSchema#gYear')))\n",
            "(rdflib.term.Literal('Greece'), rdflib.term.Literal('1920', datatype=rdflib.term.URIRef('http://www.w3.org/2001/XMLSchema#gYear')))\n",
            "(rdflib.term.Literal('Greece'), rdflib.term.Literal('1928', datatype=rdflib.term.URIRef('http://www.w3.org/2001/XMLSchema#gYear')))\n",
            "(rdflib.term.Literal('Greece'), rdflib.term.Literal('1940', datatype=rdflib.term.URIRef('http://www.w3.org/2001/XMLSchema#gYear')))\n",
            "(rdflib.term.Literal('Greece'), rdflib.term.Literal('1951', datatype=rdflib.term.URIRef('http://www.w3.org/2001/XMLSchema#gYear')))\n",
            "(rdflib.term.Literal('Greece'), rdflib.term.Literal('1961', datatype=rdflib.term.URIRef('http://www.w3.org/2001/XMLSchema#gYear')))\n",
            "(rdflib.term.Literal('Greece'), rdflib.term.Literal('1971', datatype=rdflib.term.URIRef('http://www.w3.org/2001/XMLSchema#gYear')))\n",
            "(rdflib.term.Literal('Greece'), rdflib.term.Literal('1981', datatype=rdflib.term.URIRef('http://www.w3.org/2001/XMLSchema#gYear')))\n",
            "(rdflib.term.Literal('Greece'), rdflib.term.Literal('1991', datatype=rdflib.term.URIRef('http://www.w3.org/2001/XMLSchema#gYear')))\n",
            "(rdflib.term.Literal('Greece'), rdflib.term.Literal('2001', datatype=rdflib.term.URIRef('http://www.w3.org/2001/XMLSchema#gYear')))\n",
            "(rdflib.term.Literal('Greece'), rdflib.term.Literal('2011', datatype=rdflib.term.URIRef('http://www.w3.org/2001/XMLSchema#gYear')))\n",
            "(rdflib.term.Literal('Greece'), rdflib.term.Literal('2021', datatype=rdflib.term.URIRef('http://www.w3.org/2001/XMLSchema#gYear')))\n",
            "(rdflib.term.Literal('Cyprus'), rdflib.term.Literal('1881', datatype=rdflib.term.URIRef('http://www.w3.org/2001/XMLSchema#gYear')))\n",
            "(rdflib.term.Literal('Cyprus'), rdflib.term.Literal('1891', datatype=rdflib.term.URIRef('http://www.w3.org/2001/XMLSchema#gYear')))\n",
            "(rdflib.term.Literal('Cyprus'), rdflib.term.Literal('1901', datatype=rdflib.term.URIRef('http://www.w3.org/2001/XMLSchema#gYear')))\n",
            "(rdflib.term.Literal('Cyprus'), rdflib.term.Literal('1911', datatype=rdflib.term.URIRef('http://www.w3.org/2001/XMLSchema#gYear')))\n",
            "(rdflib.term.Literal('Cyprus'), rdflib.term.Literal('1921', datatype=rdflib.term.URIRef('http://www.w3.org/2001/XMLSchema#gYear')))\n",
            "(rdflib.term.Literal('Cyprus'), rdflib.term.Literal('1931', datatype=rdflib.term.URIRef('http://www.w3.org/2001/XMLSchema#gYear')))\n",
            "(rdflib.term.Literal('Cyprus'), rdflib.term.Literal('1946', datatype=rdflib.term.URIRef('http://www.w3.org/2001/XMLSchema#gYear')))\n",
            "(rdflib.term.Literal('Cyprus'), rdflib.term.Literal('1960', datatype=rdflib.term.URIRef('http://www.w3.org/2001/XMLSchema#gYear')))\n",
            "(rdflib.term.Literal('Cyprus'), rdflib.term.Literal('1973', datatype=rdflib.term.URIRef('http://www.w3.org/2001/XMLSchema#gYear')))\n",
            "(rdflib.term.Literal('Cyprus'), rdflib.term.Literal('1976', datatype=rdflib.term.URIRef('http://www.w3.org/2001/XMLSchema#gYear')))\n",
            "(rdflib.term.Literal('Cyprus'), rdflib.term.Literal('1982', datatype=rdflib.term.URIRef('http://www.w3.org/2001/XMLSchema#gYear')))\n",
            "(rdflib.term.Literal('Cyprus'), rdflib.term.Literal('1992', datatype=rdflib.term.URIRef('http://www.w3.org/2001/XMLSchema#gYear')))\n",
            "(rdflib.term.Literal('Cyprus'), rdflib.term.Literal('2001', datatype=rdflib.term.URIRef('http://www.w3.org/2001/XMLSchema#gYear')))\n",
            "(rdflib.term.Literal('Cyprus'), rdflib.term.Literal('2011', datatype=rdflib.term.URIRef('http://www.w3.org/2001/XMLSchema#gYear')))\n",
            "(rdflib.term.Literal('Cyprus'), rdflib.term.Literal('2021', datatype=rdflib.term.URIRef('http://www.w3.org/2001/XMLSchema#gYear')))\n",
            "(rdflib.term.Literal('Akrotiri and Dhekelia'), rdflib.term.Literal('2020', datatype=rdflib.term.URIRef('http://www.w3.org/2001/XMLSchema#gYear')))\n",
            "(rdflib.term.Literal('North Macedonia'), rdflib.term.Literal('1921', datatype=rdflib.term.URIRef('http://www.w3.org/2001/XMLSchema#gYear')))\n",
            "(rdflib.term.Literal('North Macedonia'), rdflib.term.Literal('1931', datatype=rdflib.term.URIRef('http://www.w3.org/2001/XMLSchema#gYear')))\n",
            "(rdflib.term.Literal('North Macedonia'), rdflib.term.Literal('1948', datatype=rdflib.term.URIRef('http://www.w3.org/2001/XMLSchema#gYear')))\n",
            "(rdflib.term.Literal('North Macedonia'), rdflib.term.Literal('1953', datatype=rdflib.term.URIRef('http://www.w3.org/2001/XMLSchema#gYear')))\n",
            "(rdflib.term.Literal('North Macedonia'), rdflib.term.Literal('1961', datatype=rdflib.term.URIRef('http://www.w3.org/2001/XMLSchema#gYear')))\n",
            "(rdflib.term.Literal('North Macedonia'), rdflib.term.Literal('1971', datatype=rdflib.term.URIRef('http://www.w3.org/2001/XMLSchema#gYear')))\n",
            "(rdflib.term.Literal('North Macedonia'), rdflib.term.Literal('1981', datatype=rdflib.term.URIRef('http://www.w3.org/2001/XMLSchema#gYear')))\n",
            "(rdflib.term.Literal('North Macedonia'), rdflib.term.Literal('1991', datatype=rdflib.term.URIRef('http://www.w3.org/2001/XMLSchema#gYear')))\n",
            "(rdflib.term.Literal('North Macedonia'), rdflib.term.Literal('1994', datatype=rdflib.term.URIRef('http://www.w3.org/2001/XMLSchema#gYear')))\n",
            "(rdflib.term.Literal('North Macedonia'), rdflib.term.Literal('2002', datatype=rdflib.term.URIRef('http://www.w3.org/2001/XMLSchema#gYear')))\n",
            "(rdflib.term.Literal('North Macedonia'), rdflib.term.Literal('2021', datatype=rdflib.term.URIRef('http://www.w3.org/2001/XMLSchema#gYear')))\n",
            "(rdflib.term.Literal('Serbia'), rdflib.term.Literal('1950', datatype=rdflib.term.URIRef('http://www.w3.org/2001/XMLSchema#gYear')))\n",
            "(rdflib.term.Literal('Serbia'), rdflib.term.Literal('1960', datatype=rdflib.term.URIRef('http://www.w3.org/2001/XMLSchema#gYear')))\n",
            "(rdflib.term.Literal('Serbia'), rdflib.term.Literal('1970', datatype=rdflib.term.URIRef('http://www.w3.org/2001/XMLSchema#gYear')))\n",
            "(rdflib.term.Literal('Serbia'), rdflib.term.Literal('1980', datatype=rdflib.term.URIRef('http://www.w3.org/2001/XMLSchema#gYear')))\n",
            "(rdflib.term.Literal('Serbia'), rdflib.term.Literal('1990', datatype=rdflib.term.URIRef('http://www.w3.org/2001/XMLSchema#gYear')))\n",
            "(rdflib.term.Literal('Serbia'), rdflib.term.Literal('1991', datatype=rdflib.term.URIRef('http://www.w3.org/2001/XMLSchema#gYear')))\n",
            "(rdflib.term.Literal('Serbia'), rdflib.term.Literal('2002', datatype=rdflib.term.URIRef('http://www.w3.org/2001/XMLSchema#gYear')))\n",
            "(rdflib.term.Literal('Serbia'), rdflib.term.Literal('2011', datatype=rdflib.term.URIRef('http://www.w3.org/2001/XMLSchema#gYear')))\n",
            "(rdflib.term.Literal('Montenegro'), rdflib.term.Literal('1921', datatype=rdflib.term.URIRef('http://www.w3.org/2001/XMLSchema#gYear')))\n",
            "(rdflib.term.Literal('Montenegro'), rdflib.term.Literal('1931', datatype=rdflib.term.URIRef('http://www.w3.org/2001/XMLSchema#gYear')))\n",
            "(rdflib.term.Literal('Montenegro'), rdflib.term.Literal('1948', datatype=rdflib.term.URIRef('http://www.w3.org/2001/XMLSchema#gYear')))\n",
            "(rdflib.term.Literal('Montenegro'), rdflib.term.Literal('1953', datatype=rdflib.term.URIRef('http://www.w3.org/2001/XMLSchema#gYear')))\n",
            "(rdflib.term.Literal('Montenegro'), rdflib.term.Literal('1961', datatype=rdflib.term.URIRef('http://www.w3.org/2001/XMLSchema#gYear')))\n",
            "(rdflib.term.Literal('Montenegro'), rdflib.term.Literal('1971', datatype=rdflib.term.URIRef('http://www.w3.org/2001/XMLSchema#gYear')))\n",
            "(rdflib.term.Literal('Montenegro'), rdflib.term.Literal('1981', datatype=rdflib.term.URIRef('http://www.w3.org/2001/XMLSchema#gYear')))\n",
            "(rdflib.term.Literal('Montenegro'), rdflib.term.Literal('1991', datatype=rdflib.term.URIRef('http://www.w3.org/2001/XMLSchema#gYear')))\n",
            "(rdflib.term.Literal('Montenegro'), rdflib.term.Literal('2003', datatype=rdflib.term.URIRef('http://www.w3.org/2001/XMLSchema#gYear')))\n",
            "(rdflib.term.Literal('Montenegro'), rdflib.term.Literal('2011', datatype=rdflib.term.URIRef('http://www.w3.org/2001/XMLSchema#gYear')))\n",
            "(rdflib.term.Literal('Montenegro'), rdflib.term.Literal('2021', datatype=rdflib.term.URIRef('http://www.w3.org/2001/XMLSchema#gYear')))\n",
            "(rdflib.term.Literal('Kosovo'), rdflib.term.Literal('1981', datatype=rdflib.term.URIRef('http://www.w3.org/2001/XMLSchema#gYear')))\n",
            "(rdflib.term.Literal('Kosovo'), rdflib.term.Literal('1991', datatype=rdflib.term.URIRef('http://www.w3.org/2001/XMLSchema#gYear')))\n",
            "(rdflib.term.Literal('Kosovo'), rdflib.term.Literal('2011', datatype=rdflib.term.URIRef('http://www.w3.org/2001/XMLSchema#gYear')))\n",
            "(rdflib.term.Literal('Andorra'), rdflib.term.Literal('1950', datatype=rdflib.term.URIRef('http://www.w3.org/2001/XMLSchema#gYear')))\n",
            "(rdflib.term.Literal('Andorra'), rdflib.term.Literal('1960', datatype=rdflib.term.URIRef('http://www.w3.org/2001/XMLSchema#gYear')))\n",
            "(rdflib.term.Literal('Andorra'), rdflib.term.Literal('1970', datatype=rdflib.term.URIRef('http://www.w3.org/2001/XMLSchema#gYear')))\n",
            "(rdflib.term.Literal('Andorra'), rdflib.term.Literal('1980', datatype=rdflib.term.URIRef('http://www.w3.org/2001/XMLSchema#gYear')))\n",
            "(rdflib.term.Literal('Andorra'), rdflib.term.Literal('1989', datatype=rdflib.term.URIRef('http://www.w3.org/2001/XMLSchema#gYear')))\n",
            "(rdflib.term.Literal('Andorra'), rdflib.term.Literal('2001', datatype=rdflib.term.URIRef('http://www.w3.org/2001/XMLSchema#gYear')))\n",
            "(rdflib.term.Literal('Andorra'), rdflib.term.Literal('2011', datatype=rdflib.term.URIRef('http://www.w3.org/2001/XMLSchema#gYear')))\n",
            "(rdflib.term.Literal('Andorra'), rdflib.term.Literal('2016', datatype=rdflib.term.URIRef('http://www.w3.org/2001/XMLSchema#gYear')))\n",
            "(rdflib.term.Literal('Andorra'), rdflib.term.Literal('2021', datatype=rdflib.term.URIRef('http://www.w3.org/2001/XMLSchema#gYear')))\n",
            "(rdflib.term.Literal('France'), rdflib.term.Literal('1946', datatype=rdflib.term.URIRef('http://www.w3.org/2001/XMLSchema#gYear')))\n",
            "(rdflib.term.Literal('France'), rdflib.term.Literal('1954', datatype=rdflib.term.URIRef('http://www.w3.org/2001/XMLSchema#gYear')))\n",
            "(rdflib.term.Literal('France'), rdflib.term.Literal('1962', datatype=rdflib.term.URIRef('http://www.w3.org/2001/XMLSchema#gYear')))\n",
            "(rdflib.term.Literal('France'), rdflib.term.Literal('1968', datatype=rdflib.term.URIRef('http://www.w3.org/2001/XMLSchema#gYear')))\n",
            "(rdflib.term.Literal('France'), rdflib.term.Literal('1975', datatype=rdflib.term.URIRef('http://www.w3.org/2001/XMLSchema#gYear')))\n",
            "(rdflib.term.Literal('France'), rdflib.term.Literal('1982', datatype=rdflib.term.URIRef('http://www.w3.org/2001/XMLSchema#gYear')))\n",
            "(rdflib.term.Literal('France'), rdflib.term.Literal('1990', datatype=rdflib.term.URIRef('http://www.w3.org/2001/XMLSchema#gYear')))\n",
            "(rdflib.term.Literal('France'), rdflib.term.Literal('1999', datatype=rdflib.term.URIRef('http://www.w3.org/2001/XMLSchema#gYear')))\n",
            "(rdflib.term.Literal('France'), rdflib.term.Literal('2007', datatype=rdflib.term.URIRef('http://www.w3.org/2001/XMLSchema#gYear')))\n",
            "(rdflib.term.Literal('France'), rdflib.term.Literal('2015', datatype=rdflib.term.URIRef('http://www.w3.org/2001/XMLSchema#gYear')))\n",
            "(rdflib.term.Literal('Spain'), rdflib.term.Literal('1900', datatype=rdflib.term.URIRef('http://www.w3.org/2001/XMLSchema#gYear')))\n",
            "(rdflib.term.Literal('Spain'), rdflib.term.Literal('1910', datatype=rdflib.term.URIRef('http://www.w3.org/2001/XMLSchema#gYear')))\n",
            "(rdflib.term.Literal('Spain'), rdflib.term.Literal('1920', datatype=rdflib.term.URIRef('http://www.w3.org/2001/XMLSchema#gYear')))\n",
            "(rdflib.term.Literal('Spain'), rdflib.term.Literal('1930', datatype=rdflib.term.URIRef('http://www.w3.org/2001/XMLSchema#gYear')))\n",
            "(rdflib.term.Literal('Spain'), rdflib.term.Literal('1940', datatype=rdflib.term.URIRef('http://www.w3.org/2001/XMLSchema#gYear')))\n",
            "(rdflib.term.Literal('Spain'), rdflib.term.Literal('1950', datatype=rdflib.term.URIRef('http://www.w3.org/2001/XMLSchema#gYear')))\n",
            "(rdflib.term.Literal('Spain'), rdflib.term.Literal('1960', datatype=rdflib.term.URIRef('http://www.w3.org/2001/XMLSchema#gYear')))\n",
            "(rdflib.term.Literal('Spain'), rdflib.term.Literal('1970', datatype=rdflib.term.URIRef('http://www.w3.org/2001/XMLSchema#gYear')))\n",
            "(rdflib.term.Literal('Spain'), rdflib.term.Literal('1981', datatype=rdflib.term.URIRef('http://www.w3.org/2001/XMLSchema#gYear')))\n",
            "(rdflib.term.Literal('Spain'), rdflib.term.Literal('1991', datatype=rdflib.term.URIRef('http://www.w3.org/2001/XMLSchema#gYear')))\n",
            "(rdflib.term.Literal('Spain'), rdflib.term.Literal('2001', datatype=rdflib.term.URIRef('http://www.w3.org/2001/XMLSchema#gYear')))\n",
            "(rdflib.term.Literal('Spain'), rdflib.term.Literal('2011', datatype=rdflib.term.URIRef('http://www.w3.org/2001/XMLSchema#gYear')))\n",
            "(rdflib.term.Literal('Czech Republic'), rdflib.term.Literal('1950', datatype=rdflib.term.URIRef('http://www.w3.org/2001/XMLSchema#gYear')))\n",
            "(rdflib.term.Literal('Czech Republic'), rdflib.term.Literal('1960', datatype=rdflib.term.URIRef('http://www.w3.org/2001/XMLSchema#gYear')))\n",
            "(rdflib.term.Literal('Czech Republic'), rdflib.term.Literal('1970', datatype=rdflib.term.URIRef('http://www.w3.org/2001/XMLSchema#gYear')))\n",
            "(rdflib.term.Literal('Czech Republic'), rdflib.term.Literal('1980', datatype=rdflib.term.URIRef('http://www.w3.org/2001/XMLSchema#gYear')))\n",
            "(rdflib.term.Literal('Czech Republic'), rdflib.term.Literal('1991', datatype=rdflib.term.URIRef('http://www.w3.org/2001/XMLSchema#gYear')))\n",
            "(rdflib.term.Literal('Czech Republic'), rdflib.term.Literal('2001', datatype=rdflib.term.URIRef('http://www.w3.org/2001/XMLSchema#gYear')))\n",
            "(rdflib.term.Literal('Czech Republic'), rdflib.term.Literal('2011', datatype=rdflib.term.URIRef('http://www.w3.org/2001/XMLSchema#gYear')))\n",
            "(rdflib.term.Literal('Czech Republic'), rdflib.term.Literal('2021', datatype=rdflib.term.URIRef('http://www.w3.org/2001/XMLSchema#gYear')))\n",
            "(rdflib.term.Literal('Slovakia'), rdflib.term.Literal('1960', datatype=rdflib.term.URIRef('http://www.w3.org/2001/XMLSchema#gYear')))\n",
            "(rdflib.term.Literal('Slovakia'), rdflib.term.Literal('1970', datatype=rdflib.term.URIRef('http://www.w3.org/2001/XMLSchema#gYear')))\n",
            "(rdflib.term.Literal('Slovakia'), rdflib.term.Literal('1980', datatype=rdflib.term.URIRef('http://www.w3.org/2001/XMLSchema#gYear')))\n",
            "(rdflib.term.Literal('Slovakia'), rdflib.term.Literal('1990', datatype=rdflib.term.URIRef('http://www.w3.org/2001/XMLSchema#gYear')))\n",
            "(rdflib.term.Literal('Slovakia'), rdflib.term.Literal('2000', datatype=rdflib.term.URIRef('http://www.w3.org/2001/XMLSchema#gYear')))\n",
            "(rdflib.term.Literal('Slovakia'), rdflib.term.Literal('2001', datatype=rdflib.term.URIRef('http://www.w3.org/2001/XMLSchema#gYear')))\n",
            "(rdflib.term.Literal('Slovakia'), rdflib.term.Literal('2011', datatype=rdflib.term.URIRef('http://www.w3.org/2001/XMLSchema#gYear')))\n",
            "(rdflib.term.Literal('Slovakia'), rdflib.term.Literal('2021', datatype=rdflib.term.URIRef('http://www.w3.org/2001/XMLSchema#gYear')))\n",
            "(rdflib.term.Literal('Germany'), rdflib.term.Literal('1950', datatype=rdflib.term.URIRef('http://www.w3.org/2001/XMLSchema#gYear')))\n",
            "(rdflib.term.Literal('Germany'), rdflib.term.Literal('1997', datatype=rdflib.term.URIRef('http://www.w3.org/2001/XMLSchema#gYear')))\n",
            "(rdflib.term.Literal('Germany'), rdflib.term.Literal('2007', datatype=rdflib.term.URIRef('http://www.w3.org/2001/XMLSchema#gYear')))\n",
            "(rdflib.term.Literal('Germany'), rdflib.term.Literal('2011', datatype=rdflib.term.URIRef('http://www.w3.org/2001/XMLSchema#gYear')))\n",
            "(rdflib.term.Literal('Germany'), rdflib.term.Literal('2016', datatype=rdflib.term.URIRef('http://www.w3.org/2001/XMLSchema#gYear')))\n",
            "(rdflib.term.Literal('Hungary'), rdflib.term.Literal('1949', datatype=rdflib.term.URIRef('http://www.w3.org/2001/XMLSchema#gYear')))\n",
            "(rdflib.term.Literal('Hungary'), rdflib.term.Literal('1960', datatype=rdflib.term.URIRef('http://www.w3.org/2001/XMLSchema#gYear')))\n",
            "(rdflib.term.Literal('Hungary'), rdflib.term.Literal('1970', datatype=rdflib.term.URIRef('http://www.w3.org/2001/XMLSchema#gYear')))\n",
            "(rdflib.term.Literal('Hungary'), rdflib.term.Literal('1980', datatype=rdflib.term.URIRef('http://www.w3.org/2001/XMLSchema#gYear')))\n",
            "(rdflib.term.Literal('Hungary'), rdflib.term.Literal('1990', datatype=rdflib.term.URIRef('http://www.w3.org/2001/XMLSchema#gYear')))\n",
            "(rdflib.term.Literal('Hungary'), rdflib.term.Literal('2001', datatype=rdflib.term.URIRef('http://www.w3.org/2001/XMLSchema#gYear')))\n",
            "(rdflib.term.Literal('Hungary'), rdflib.term.Literal('2011', datatype=rdflib.term.URIRef('http://www.w3.org/2001/XMLSchema#gYear')))\n",
            "(rdflib.term.Literal('Italy'), rdflib.term.Literal('1861', datatype=rdflib.term.URIRef('http://www.w3.org/2001/XMLSchema#gYear')))\n",
            "(rdflib.term.Literal('Italy'), rdflib.term.Literal('1871', datatype=rdflib.term.URIRef('http://www.w3.org/2001/XMLSchema#gYear')))\n",
            "(rdflib.term.Literal('Italy'), rdflib.term.Literal('1881', datatype=rdflib.term.URIRef('http://www.w3.org/2001/XMLSchema#gYear')))\n",
            "(rdflib.term.Literal('Italy'), rdflib.term.Literal('1901', datatype=rdflib.term.URIRef('http://www.w3.org/2001/XMLSchema#gYear')))\n",
            "(rdflib.term.Literal('Italy'), rdflib.term.Literal('1911', datatype=rdflib.term.URIRef('http://www.w3.org/2001/XMLSchema#gYear')))\n",
            "(rdflib.term.Literal('Italy'), rdflib.term.Literal('1921', datatype=rdflib.term.URIRef('http://www.w3.org/2001/XMLSchema#gYear')))\n",
            "(rdflib.term.Literal('Italy'), rdflib.term.Literal('1931', datatype=rdflib.term.URIRef('http://www.w3.org/2001/XMLSchema#gYear')))\n",
            "(rdflib.term.Literal('Italy'), rdflib.term.Literal('1936', datatype=rdflib.term.URIRef('http://www.w3.org/2001/XMLSchema#gYear')))\n",
            "(rdflib.term.Literal('Italy'), rdflib.term.Literal('1951', datatype=rdflib.term.URIRef('http://www.w3.org/2001/XMLSchema#gYear')))\n",
            "(rdflib.term.Literal('Italy'), rdflib.term.Literal('1961', datatype=rdflib.term.URIRef('http://www.w3.org/2001/XMLSchema#gYear')))\n",
            "(rdflib.term.Literal('Italy'), rdflib.term.Literal('1971', datatype=rdflib.term.URIRef('http://www.w3.org/2001/XMLSchema#gYear')))\n",
            "(rdflib.term.Literal('Italy'), rdflib.term.Literal('1981', datatype=rdflib.term.URIRef('http://www.w3.org/2001/XMLSchema#gYear')))\n",
            "(rdflib.term.Literal('Italy'), rdflib.term.Literal('1991', datatype=rdflib.term.URIRef('http://www.w3.org/2001/XMLSchema#gYear')))\n",
            "(rdflib.term.Literal('Italy'), rdflib.term.Literal('2001', datatype=rdflib.term.URIRef('http://www.w3.org/2001/XMLSchema#gYear')))\n",
            "(rdflib.term.Literal('Italy'), rdflib.term.Literal('2011', datatype=rdflib.term.URIRef('http://www.w3.org/2001/XMLSchema#gYear')))\n",
            "(rdflib.term.Literal('Switzerland'), rdflib.term.Literal('1950', datatype=rdflib.term.URIRef('http://www.w3.org/2001/XMLSchema#gYear')))\n",
            "(rdflib.term.Literal('Switzerland'), rdflib.term.Literal('1960', datatype=rdflib.term.URIRef('http://www.w3.org/2001/XMLSchema#gYear')))\n",
            "(rdflib.term.Literal('Switzerland'), rdflib.term.Literal('1970', datatype=rdflib.term.URIRef('http://www.w3.org/2001/XMLSchema#gYear')))\n",
            "(rdflib.term.Literal('Switzerland'), rdflib.term.Literal('1980', datatype=rdflib.term.URIRef('http://www.w3.org/2001/XMLSchema#gYear')))\n",
            "(rdflib.term.Literal('Switzerland'), rdflib.term.Literal('1990', datatype=rdflib.term.URIRef('http://www.w3.org/2001/XMLSchema#gYear')))\n",
            "(rdflib.term.Literal('Switzerland'), rdflib.term.Literal('2000', datatype=rdflib.term.URIRef('http://www.w3.org/2001/XMLSchema#gYear')))\n",
            "(rdflib.term.Literal('Switzerland'), rdflib.term.Literal('2010', datatype=rdflib.term.URIRef('http://www.w3.org/2001/XMLSchema#gYear')))\n",
            "(rdflib.term.Literal('Switzerland'), rdflib.term.Literal('2020', datatype=rdflib.term.URIRef('http://www.w3.org/2001/XMLSchema#gYear')))\n",
            "(rdflib.term.Literal('Liechtenstein'), rdflib.term.Literal('1950', datatype=rdflib.term.URIRef('http://www.w3.org/2001/XMLSchema#gYear')))\n",
            "(rdflib.term.Literal('Liechtenstein'), rdflib.term.Literal('1960', datatype=rdflib.term.URIRef('http://www.w3.org/2001/XMLSchema#gYear')))\n",
            "(rdflib.term.Literal('Liechtenstein'), rdflib.term.Literal('1970', datatype=rdflib.term.URIRef('http://www.w3.org/2001/XMLSchema#gYear')))\n",
            "(rdflib.term.Literal('Liechtenstein'), rdflib.term.Literal('1980', datatype=rdflib.term.URIRef('http://www.w3.org/2001/XMLSchema#gYear')))\n",
            "(rdflib.term.Literal('Liechtenstein'), rdflib.term.Literal('1990', datatype=rdflib.term.URIRef('http://www.w3.org/2001/XMLSchema#gYear')))\n",
            "(rdflib.term.Literal('Liechtenstein'), rdflib.term.Literal('2000', datatype=rdflib.term.URIRef('http://www.w3.org/2001/XMLSchema#gYear')))\n",
            "(rdflib.term.Literal('Liechtenstein'), rdflib.term.Literal('2010', datatype=rdflib.term.URIRef('http://www.w3.org/2001/XMLSchema#gYear')))\n",
            "(rdflib.term.Literal('Liechtenstein'), rdflib.term.Literal('2020', datatype=rdflib.term.URIRef('http://www.w3.org/2001/XMLSchema#gYear')))\n",
            "(rdflib.term.Literal('Austria'), rdflib.term.Literal('1869', datatype=rdflib.term.URIRef('http://www.w3.org/2001/XMLSchema#gYear')))\n",
            "(rdflib.term.Literal('Austria'), rdflib.term.Literal('1910', datatype=rdflib.term.URIRef('http://www.w3.org/2001/XMLSchema#gYear')))\n",
            "(rdflib.term.Literal('Austria'), rdflib.term.Literal('1934', datatype=rdflib.term.URIRef('http://www.w3.org/2001/XMLSchema#gYear')))\n",
            "(rdflib.term.Literal('Austria'), rdflib.term.Literal('1951', datatype=rdflib.term.URIRef('http://www.w3.org/2001/XMLSchema#gYear')))\n",
            "(rdflib.term.Literal('Austria'), rdflib.term.Literal('1961', datatype=rdflib.term.URIRef('http://www.w3.org/2001/XMLSchema#gYear')))\n",
            "(rdflib.term.Literal('Austria'), rdflib.term.Literal('1971', datatype=rdflib.term.URIRef('http://www.w3.org/2001/XMLSchema#gYear')))\n",
            "(rdflib.term.Literal('Austria'), rdflib.term.Literal('1981', datatype=rdflib.term.URIRef('http://www.w3.org/2001/XMLSchema#gYear')))\n",
            "(rdflib.term.Literal('Austria'), rdflib.term.Literal('1991', datatype=rdflib.term.URIRef('http://www.w3.org/2001/XMLSchema#gYear')))\n",
            "(rdflib.term.Literal('Austria'), rdflib.term.Literal('2001', datatype=rdflib.term.URIRef('http://www.w3.org/2001/XMLSchema#gYear')))\n",
            "(rdflib.term.Literal('Austria'), rdflib.term.Literal('2011', datatype=rdflib.term.URIRef('http://www.w3.org/2001/XMLSchema#gYear')))\n",
            "(rdflib.term.Literal('Estonia'), rdflib.term.Literal('1881', datatype=rdflib.term.URIRef('http://www.w3.org/2001/XMLSchema#gYear')))\n",
            "(rdflib.term.Literal('Estonia'), rdflib.term.Literal('1897', datatype=rdflib.term.URIRef('http://www.w3.org/2001/XMLSchema#gYear')))\n",
            "(rdflib.term.Literal('Estonia'), rdflib.term.Literal('1922', datatype=rdflib.term.URIRef('http://www.w3.org/2001/XMLSchema#gYear')))\n",
            "(rdflib.term.Literal('Estonia'), rdflib.term.Literal('1934', datatype=rdflib.term.URIRef('http://www.w3.org/2001/XMLSchema#gYear')))\n",
            "(rdflib.term.Literal('Estonia'), rdflib.term.Literal('1959', datatype=rdflib.term.URIRef('http://www.w3.org/2001/XMLSchema#gYear')))\n",
            "(rdflib.term.Literal('Estonia'), rdflib.term.Literal('1970', datatype=rdflib.term.URIRef('http://www.w3.org/2001/XMLSchema#gYear')))\n",
            "(rdflib.term.Literal('Estonia'), rdflib.term.Literal('1979', datatype=rdflib.term.URIRef('http://www.w3.org/2001/XMLSchema#gYear')))\n",
            "(rdflib.term.Literal('Estonia'), rdflib.term.Literal('1989', datatype=rdflib.term.URIRef('http://www.w3.org/2001/XMLSchema#gYear')))\n",
            "(rdflib.term.Literal('Estonia'), rdflib.term.Literal('2000', datatype=rdflib.term.URIRef('http://www.w3.org/2001/XMLSchema#gYear')))\n",
            "(rdflib.term.Literal('Estonia'), rdflib.term.Literal('2011', datatype=rdflib.term.URIRef('http://www.w3.org/2001/XMLSchema#gYear')))\n",
            "(rdflib.term.Literal('Estonia'), rdflib.term.Literal('2021', datatype=rdflib.term.URIRef('http://www.w3.org/2001/XMLSchema#gYear')))\n",
            "(rdflib.term.Literal('Latvia'), rdflib.term.Literal('1897', datatype=rdflib.term.URIRef('http://www.w3.org/2001/XMLSchema#gYear')))\n",
            "(rdflib.term.Literal('Latvia'), rdflib.term.Literal('1920', datatype=rdflib.term.URIRef('http://www.w3.org/2001/XMLSchema#gYear')))\n",
            "(rdflib.term.Literal('Latvia'), rdflib.term.Literal('1925', datatype=rdflib.term.URIRef('http://www.w3.org/2001/XMLSchema#gYear')))\n",
            "(rdflib.term.Literal('Latvia'), rdflib.term.Literal('1930', datatype=rdflib.term.URIRef('http://www.w3.org/2001/XMLSchema#gYear')))\n",
            "(rdflib.term.Literal('Latvia'), rdflib.term.Literal('1935', datatype=rdflib.term.URIRef('http://www.w3.org/2001/XMLSchema#gYear')))\n",
            "(rdflib.term.Literal('Latvia'), rdflib.term.Literal('1959', datatype=rdflib.term.URIRef('http://www.w3.org/2001/XMLSchema#gYear')))\n",
            "(rdflib.term.Literal('Latvia'), rdflib.term.Literal('1979', datatype=rdflib.term.URIRef('http://www.w3.org/2001/XMLSchema#gYear')))\n",
            "(rdflib.term.Literal('Latvia'), rdflib.term.Literal('1989', datatype=rdflib.term.URIRef('http://www.w3.org/2001/XMLSchema#gYear')))\n",
            "(rdflib.term.Literal('Latvia'), rdflib.term.Literal('2000', datatype=rdflib.term.URIRef('http://www.w3.org/2001/XMLSchema#gYear')))\n",
            "(rdflib.term.Literal('Latvia'), rdflib.term.Literal('2011', datatype=rdflib.term.URIRef('http://www.w3.org/2001/XMLSchema#gYear')))\n",
            "(rdflib.term.Literal('Latvia'), rdflib.term.Literal('2013', datatype=rdflib.term.URIRef('http://www.w3.org/2001/XMLSchema#gYear')))\n",
            "(rdflib.term.Literal('Lithuania'), rdflib.term.Literal('1950', datatype=rdflib.term.URIRef('http://www.w3.org/2001/XMLSchema#gYear')))\n",
            "(rdflib.term.Literal('Lithuania'), rdflib.term.Literal('1959', datatype=rdflib.term.URIRef('http://www.w3.org/2001/XMLSchema#gYear')))\n",
            "(rdflib.term.Literal('Lithuania'), rdflib.term.Literal('1970', datatype=rdflib.term.URIRef('http://www.w3.org/2001/XMLSchema#gYear')))\n",
            "(rdflib.term.Literal('Lithuania'), rdflib.term.Literal('1979', datatype=rdflib.term.URIRef('http://www.w3.org/2001/XMLSchema#gYear')))\n",
            "(rdflib.term.Literal('Lithuania'), rdflib.term.Literal('1989', datatype=rdflib.term.URIRef('http://www.w3.org/2001/XMLSchema#gYear')))\n",
            "(rdflib.term.Literal('Lithuania'), rdflib.term.Literal('2001', datatype=rdflib.term.URIRef('http://www.w3.org/2001/XMLSchema#gYear')))\n",
            "(rdflib.term.Literal('Lithuania'), rdflib.term.Literal('2011', datatype=rdflib.term.URIRef('http://www.w3.org/2001/XMLSchema#gYear')))\n",
            "(rdflib.term.Literal('Lithuania'), rdflib.term.Literal('2021', datatype=rdflib.term.URIRef('http://www.w3.org/2001/XMLSchema#gYear')))\n",
            "(rdflib.term.Literal('Belarus'), rdflib.term.Literal('1950', datatype=rdflib.term.URIRef('http://www.w3.org/2001/XMLSchema#gYear')))\n",
            "(rdflib.term.Literal('Belarus'), rdflib.term.Literal('1959', datatype=rdflib.term.URIRef('http://www.w3.org/2001/XMLSchema#gYear')))\n",
            "(rdflib.term.Literal('Belarus'), rdflib.term.Literal('1970', datatype=rdflib.term.URIRef('http://www.w3.org/2001/XMLSchema#gYear')))\n",
            "(rdflib.term.Literal('Belarus'), rdflib.term.Literal('1979', datatype=rdflib.term.URIRef('http://www.w3.org/2001/XMLSchema#gYear')))\n",
            "(rdflib.term.Literal('Belarus'), rdflib.term.Literal('1989', datatype=rdflib.term.URIRef('http://www.w3.org/2001/XMLSchema#gYear')))\n",
            "(rdflib.term.Literal('Belarus'), rdflib.term.Literal('1999', datatype=rdflib.term.URIRef('http://www.w3.org/2001/XMLSchema#gYear')))\n",
            "(rdflib.term.Literal('Belarus'), rdflib.term.Literal('2009', datatype=rdflib.term.URIRef('http://www.w3.org/2001/XMLSchema#gYear')))\n",
            "(rdflib.term.Literal('Poland'), rdflib.term.Literal('1946', datatype=rdflib.term.URIRef('http://www.w3.org/2001/XMLSchema#gYear')))\n",
            "(rdflib.term.Literal('Poland'), rdflib.term.Literal('1950', datatype=rdflib.term.URIRef('http://www.w3.org/2001/XMLSchema#gYear')))\n",
            "(rdflib.term.Literal('Poland'), rdflib.term.Literal('1960', datatype=rdflib.term.URIRef('http://www.w3.org/2001/XMLSchema#gYear')))\n",
            "(rdflib.term.Literal('Poland'), rdflib.term.Literal('1970', datatype=rdflib.term.URIRef('http://www.w3.org/2001/XMLSchema#gYear')))\n",
            "(rdflib.term.Literal('Poland'), rdflib.term.Literal('1978', datatype=rdflib.term.URIRef('http://www.w3.org/2001/XMLSchema#gYear')))\n",
            "(rdflib.term.Literal('Poland'), rdflib.term.Literal('1988', datatype=rdflib.term.URIRef('http://www.w3.org/2001/XMLSchema#gYear')))\n",
            "(rdflib.term.Literal('Poland'), rdflib.term.Literal('2002', datatype=rdflib.term.URIRef('http://www.w3.org/2001/XMLSchema#gYear')))\n",
            "(rdflib.term.Literal('Poland'), rdflib.term.Literal('2011', datatype=rdflib.term.URIRef('http://www.w3.org/2001/XMLSchema#gYear')))\n",
            "(rdflib.term.Literal('Poland'), rdflib.term.Literal('2021', datatype=rdflib.term.URIRef('http://www.w3.org/2001/XMLSchema#gYear')))\n",
            "(rdflib.term.Literal('Ukraine'), rdflib.term.Literal('1950', datatype=rdflib.term.URIRef('http://www.w3.org/2001/XMLSchema#gYear')))\n",
            "(rdflib.term.Literal('Ukraine'), rdflib.term.Literal('1959', datatype=rdflib.term.URIRef('http://www.w3.org/2001/XMLSchema#gYear')))\n",
            "(rdflib.term.Literal('Ukraine'), rdflib.term.Literal('1970', datatype=rdflib.term.URIRef('http://www.w3.org/2001/XMLSchema#gYear')))\n",
            "(rdflib.term.Literal('Ukraine'), rdflib.term.Literal('1979', datatype=rdflib.term.URIRef('http://www.w3.org/2001/XMLSchema#gYear')))\n",
            "(rdflib.term.Literal('Ukraine'), rdflib.term.Literal('1989', datatype=rdflib.term.URIRef('http://www.w3.org/2001/XMLSchema#gYear')))\n",
            "(rdflib.term.Literal('Ukraine'), rdflib.term.Literal('2001', datatype=rdflib.term.URIRef('http://www.w3.org/2001/XMLSchema#gYear')))\n",
            "(rdflib.term.Literal('Ukraine'), rdflib.term.Literal('2014', datatype=rdflib.term.URIRef('http://www.w3.org/2001/XMLSchema#gYear')))\n",
            "(rdflib.term.Literal('Ukraine'), rdflib.term.Literal('2021', datatype=rdflib.term.URIRef('http://www.w3.org/2001/XMLSchema#gYear')))\n",
            "(rdflib.term.Literal('Russia'), rdflib.term.Literal('1950', datatype=rdflib.term.URIRef('http://www.w3.org/2001/XMLSchema#gYear')))\n",
            "(rdflib.term.Literal('Russia'), rdflib.term.Literal('1960', datatype=rdflib.term.URIRef('http://www.w3.org/2001/XMLSchema#gYear')))\n",
            "(rdflib.term.Literal('Russia'), rdflib.term.Literal('1970', datatype=rdflib.term.URIRef('http://www.w3.org/2001/XMLSchema#gYear')))\n",
            "(rdflib.term.Literal('Russia'), rdflib.term.Literal('1979', datatype=rdflib.term.URIRef('http://www.w3.org/2001/XMLSchema#gYear')))\n",
            "(rdflib.term.Literal('Russia'), rdflib.term.Literal('1989', datatype=rdflib.term.URIRef('http://www.w3.org/2001/XMLSchema#gYear')))\n",
            "(rdflib.term.Literal('Russia'), rdflib.term.Literal('2002', datatype=rdflib.term.URIRef('http://www.w3.org/2001/XMLSchema#gYear')))\n",
            "(rdflib.term.Literal('Russia'), rdflib.term.Literal('2010', datatype=rdflib.term.URIRef('http://www.w3.org/2001/XMLSchema#gYear')))\n",
            "(rdflib.term.Literal('Russia'), rdflib.term.Literal('2021', datatype=rdflib.term.URIRef('http://www.w3.org/2001/XMLSchema#gYear')))\n",
            "(rdflib.term.Literal('Belgium'), rdflib.term.Literal('1947', datatype=rdflib.term.URIRef('http://www.w3.org/2001/XMLSchema#gYear')))\n",
            "(rdflib.term.Literal('Belgium'), rdflib.term.Literal('1961', datatype=rdflib.term.URIRef('http://www.w3.org/2001/XMLSchema#gYear')))\n",
            "(rdflib.term.Literal('Belgium'), rdflib.term.Literal('1970', datatype=rdflib.term.URIRef('http://www.w3.org/2001/XMLSchema#gYear')))\n",
            "(rdflib.term.Literal('Belgium'), rdflib.term.Literal('1981', datatype=rdflib.term.URIRef('http://www.w3.org/2001/XMLSchema#gYear')))\n",
            "(rdflib.term.Literal('Belgium'), rdflib.term.Literal('1990', datatype=rdflib.term.URIRef('http://www.w3.org/2001/XMLSchema#gYear')))\n",
            "(rdflib.term.Literal('Belgium'), rdflib.term.Literal('2000', datatype=rdflib.term.URIRef('http://www.w3.org/2001/XMLSchema#gYear')))\n",
            "(rdflib.term.Literal('Belgium'), rdflib.term.Literal('2010', datatype=rdflib.term.URIRef('http://www.w3.org/2001/XMLSchema#gYear')))\n",
            "(rdflib.term.Literal('Belgium'), rdflib.term.Literal('2020', datatype=rdflib.term.URIRef('http://www.w3.org/2001/XMLSchema#gYear')))\n",
            "(rdflib.term.Literal('Luxembourg'), rdflib.term.Literal('1947', datatype=rdflib.term.URIRef('http://www.w3.org/2001/XMLSchema#gYear')))\n",
            "(rdflib.term.Literal('Luxembourg'), rdflib.term.Literal('1960', datatype=rdflib.term.URIRef('http://www.w3.org/2001/XMLSchema#gYear')))\n",
            "(rdflib.term.Literal('Luxembourg'), rdflib.term.Literal('1966', datatype=rdflib.term.URIRef('http://www.w3.org/2001/XMLSchema#gYear')))\n",
            "(rdflib.term.Literal('Luxembourg'), rdflib.term.Literal('1970', datatype=rdflib.term.URIRef('http://www.w3.org/2001/XMLSchema#gYear')))\n",
            "(rdflib.term.Literal('Luxembourg'), rdflib.term.Literal('1981', datatype=rdflib.term.URIRef('http://www.w3.org/2001/XMLSchema#gYear')))\n",
            "(rdflib.term.Literal('Luxembourg'), rdflib.term.Literal('1991', datatype=rdflib.term.URIRef('http://www.w3.org/2001/XMLSchema#gYear')))\n",
            "(rdflib.term.Literal('Luxembourg'), rdflib.term.Literal('2000', datatype=rdflib.term.URIRef('http://www.w3.org/2001/XMLSchema#gYear')))\n",
            "(rdflib.term.Literal('Luxembourg'), rdflib.term.Literal('2001', datatype=rdflib.term.URIRef('http://www.w3.org/2001/XMLSchema#gYear')))\n",
            "(rdflib.term.Literal('Luxembourg'), rdflib.term.Literal('2011', datatype=rdflib.term.URIRef('http://www.w3.org/2001/XMLSchema#gYear')))\n",
            "(rdflib.term.Literal('Luxembourg'), rdflib.term.Literal('2022', datatype=rdflib.term.URIRef('http://www.w3.org/2001/XMLSchema#gYear')))\n",
            "(rdflib.term.Literal('Netherlands'), rdflib.term.Literal('1795', datatype=rdflib.term.URIRef('http://www.w3.org/2001/XMLSchema#gYear')))\n",
            "(rdflib.term.Literal('Netherlands'), rdflib.term.Literal('1815', datatype=rdflib.term.URIRef('http://www.w3.org/2001/XMLSchema#gYear')))\n",
            "(rdflib.term.Literal('Netherlands'), rdflib.term.Literal('1830', datatype=rdflib.term.URIRef('http://www.w3.org/2001/XMLSchema#gYear')))\n",
            "(rdflib.term.Literal('Netherlands'), rdflib.term.Literal('1840', datatype=rdflib.term.URIRef('http://www.w3.org/2001/XMLSchema#gYear')))\n",
            "(rdflib.term.Literal('Netherlands'), rdflib.term.Literal('1849', datatype=rdflib.term.URIRef('http://www.w3.org/2001/XMLSchema#gYear')))\n",
            "(rdflib.term.Literal('Netherlands'), rdflib.term.Literal('1859', datatype=rdflib.term.URIRef('http://www.w3.org/2001/XMLSchema#gYear')))\n",
            "(rdflib.term.Literal('Netherlands'), rdflib.term.Literal('1869', datatype=rdflib.term.URIRef('http://www.w3.org/2001/XMLSchema#gYear')))\n",
            "(rdflib.term.Literal('Netherlands'), rdflib.term.Literal('1879', datatype=rdflib.term.URIRef('http://www.w3.org/2001/XMLSchema#gYear')))\n",
            "(rdflib.term.Literal('Netherlands'), rdflib.term.Literal('1889', datatype=rdflib.term.URIRef('http://www.w3.org/2001/XMLSchema#gYear')))\n",
            "(rdflib.term.Literal('Netherlands'), rdflib.term.Literal('1899', datatype=rdflib.term.URIRef('http://www.w3.org/2001/XMLSchema#gYear')))\n",
            "(rdflib.term.Literal('Netherlands'), rdflib.term.Literal('1909', datatype=rdflib.term.URIRef('http://www.w3.org/2001/XMLSchema#gYear')))\n",
            "(rdflib.term.Literal('Netherlands'), rdflib.term.Literal('1920', datatype=rdflib.term.URIRef('http://www.w3.org/2001/XMLSchema#gYear')))\n",
            "(rdflib.term.Literal('Netherlands'), rdflib.term.Literal('1930', datatype=rdflib.term.URIRef('http://www.w3.org/2001/XMLSchema#gYear')))\n",
            "(rdflib.term.Literal('Netherlands'), rdflib.term.Literal('1947', datatype=rdflib.term.URIRef('http://www.w3.org/2001/XMLSchema#gYear')))\n",
            "(rdflib.term.Literal('Netherlands'), rdflib.term.Literal('1960', datatype=rdflib.term.URIRef('http://www.w3.org/2001/XMLSchema#gYear')))\n",
            "(rdflib.term.Literal('Netherlands'), rdflib.term.Literal('1971', datatype=rdflib.term.URIRef('http://www.w3.org/2001/XMLSchema#gYear')))\n",
            "(rdflib.term.Literal('Netherlands'), rdflib.term.Literal('2002', datatype=rdflib.term.URIRef('http://www.w3.org/2001/XMLSchema#gYear')))\n",
            "(rdflib.term.Literal('Netherlands'), rdflib.term.Literal('2010', datatype=rdflib.term.URIRef('http://www.w3.org/2001/XMLSchema#gYear')))\n",
            "(rdflib.term.Literal('Netherlands'), rdflib.term.Literal('2014', datatype=rdflib.term.URIRef('http://www.w3.org/2001/XMLSchema#gYear')))\n",
            "(rdflib.term.Literal('Netherlands'), rdflib.term.Literal('2022', datatype=rdflib.term.URIRef('http://www.w3.org/2001/XMLSchema#gYear')))\n",
            "(rdflib.term.Literal('Slovenia'), rdflib.term.Literal('1857', datatype=rdflib.term.URIRef('http://www.w3.org/2001/XMLSchema#gYear')))\n",
            "(rdflib.term.Literal('Slovenia'), rdflib.term.Literal('1869', datatype=rdflib.term.URIRef('http://www.w3.org/2001/XMLSchema#gYear')))\n",
            "(rdflib.term.Literal('Slovenia'), rdflib.term.Literal('1880', datatype=rdflib.term.URIRef('http://www.w3.org/2001/XMLSchema#gYear')))\n",
            "(rdflib.term.Literal('Slovenia'), rdflib.term.Literal('1890', datatype=rdflib.term.URIRef('http://www.w3.org/2001/XMLSchema#gYear')))\n",
            "(rdflib.term.Literal('Slovenia'), rdflib.term.Literal('1900', datatype=rdflib.term.URIRef('http://www.w3.org/2001/XMLSchema#gYear')))\n",
            "(rdflib.term.Literal('Slovenia'), rdflib.term.Literal('1910', datatype=rdflib.term.URIRef('http://www.w3.org/2001/XMLSchema#gYear')))\n",
            "(rdflib.term.Literal('Slovenia'), rdflib.term.Literal('1921', datatype=rdflib.term.URIRef('http://www.w3.org/2001/XMLSchema#gYear')))\n",
            "(rdflib.term.Literal('Slovenia'), rdflib.term.Literal('1931', datatype=rdflib.term.URIRef('http://www.w3.org/2001/XMLSchema#gYear')))\n",
            "(rdflib.term.Literal('Slovenia'), rdflib.term.Literal('1948', datatype=rdflib.term.URIRef('http://www.w3.org/2001/XMLSchema#gYear')))\n",
            "(rdflib.term.Literal('Slovenia'), rdflib.term.Literal('1953', datatype=rdflib.term.URIRef('http://www.w3.org/2001/XMLSchema#gYear')))\n",
            "(rdflib.term.Literal('Slovenia'), rdflib.term.Literal('1961', datatype=rdflib.term.URIRef('http://www.w3.org/2001/XMLSchema#gYear')))\n",
            "(rdflib.term.Literal('Slovenia'), rdflib.term.Literal('1971', datatype=rdflib.term.URIRef('http://www.w3.org/2001/XMLSchema#gYear')))\n",
            "(rdflib.term.Literal('Slovenia'), rdflib.term.Literal('1981', datatype=rdflib.term.URIRef('http://www.w3.org/2001/XMLSchema#gYear')))\n",
            "(rdflib.term.Literal('Slovenia'), rdflib.term.Literal('1991', datatype=rdflib.term.URIRef('http://www.w3.org/2001/XMLSchema#gYear')))\n",
            "(rdflib.term.Literal('Slovenia'), rdflib.term.Literal('2002', datatype=rdflib.term.URIRef('http://www.w3.org/2001/XMLSchema#gYear')))\n",
            "(rdflib.term.Literal('Slovenia'), rdflib.term.Literal('2011', datatype=rdflib.term.URIRef('http://www.w3.org/2001/XMLSchema#gYear')))\n",
            "(rdflib.term.Literal('Slovenia'), rdflib.term.Literal('2021', datatype=rdflib.term.URIRef('http://www.w3.org/2001/XMLSchema#gYear')))\n",
            "(rdflib.term.Literal('Croatia'), rdflib.term.Literal('1950', datatype=rdflib.term.URIRef('http://www.w3.org/2001/XMLSchema#gYear')))\n",
            "(rdflib.term.Literal('Croatia'), rdflib.term.Literal('1960', datatype=rdflib.term.URIRef('http://www.w3.org/2001/XMLSchema#gYear')))\n",
            "(rdflib.term.Literal('Croatia'), rdflib.term.Literal('1970', datatype=rdflib.term.URIRef('http://www.w3.org/2001/XMLSchema#gYear')))\n",
            "(rdflib.term.Literal('Croatia'), rdflib.term.Literal('1971', datatype=rdflib.term.URIRef('http://www.w3.org/2001/XMLSchema#gYear')))\n",
            "(rdflib.term.Literal('Croatia'), rdflib.term.Literal('1981', datatype=rdflib.term.URIRef('http://www.w3.org/2001/XMLSchema#gYear')))\n",
            "(rdflib.term.Literal('Croatia'), rdflib.term.Literal('1991', datatype=rdflib.term.URIRef('http://www.w3.org/2001/XMLSchema#gYear')))\n",
            "(rdflib.term.Literal('Croatia'), rdflib.term.Literal('2001', datatype=rdflib.term.URIRef('http://www.w3.org/2001/XMLSchema#gYear')))\n",
            "(rdflib.term.Literal('Croatia'), rdflib.term.Literal('2011', datatype=rdflib.term.URIRef('http://www.w3.org/2001/XMLSchema#gYear')))\n",
            "(rdflib.term.Literal('Croatia'), rdflib.term.Literal('2021', datatype=rdflib.term.URIRef('http://www.w3.org/2001/XMLSchema#gYear')))\n",
            "(rdflib.term.Literal('Bosnia and Herzegovina'), rdflib.term.Literal('1948', datatype=rdflib.term.URIRef('http://www.w3.org/2001/XMLSchema#gYear')))\n",
            "(rdflib.term.Literal('Bosnia and Herzegovina'), rdflib.term.Literal('1953', datatype=rdflib.term.URIRef('http://www.w3.org/2001/XMLSchema#gYear')))\n",
            "(rdflib.term.Literal('Bosnia and Herzegovina'), rdflib.term.Literal('1961', datatype=rdflib.term.URIRef('http://www.w3.org/2001/XMLSchema#gYear')))\n",
            "(rdflib.term.Literal('Bosnia and Herzegovina'), rdflib.term.Literal('1971', datatype=rdflib.term.URIRef('http://www.w3.org/2001/XMLSchema#gYear')))\n",
            "(rdflib.term.Literal('Bosnia and Herzegovina'), rdflib.term.Literal('1981', datatype=rdflib.term.URIRef('http://www.w3.org/2001/XMLSchema#gYear')))\n",
            "(rdflib.term.Literal('Bosnia and Herzegovina'), rdflib.term.Literal('1991', datatype=rdflib.term.URIRef('http://www.w3.org/2001/XMLSchema#gYear')))\n",
            "(rdflib.term.Literal('Bosnia and Herzegovina'), rdflib.term.Literal('2013', datatype=rdflib.term.URIRef('http://www.w3.org/2001/XMLSchema#gYear')))\n",
            "(rdflib.term.Literal('Bulgaria'), rdflib.term.Literal('1887', datatype=rdflib.term.URIRef('http://www.w3.org/2001/XMLSchema#gYear')))\n",
            "(rdflib.term.Literal('Bulgaria'), rdflib.term.Literal('1892', datatype=rdflib.term.URIRef('http://www.w3.org/2001/XMLSchema#gYear')))\n",
            "(rdflib.term.Literal('Bulgaria'), rdflib.term.Literal('1900', datatype=rdflib.term.URIRef('http://www.w3.org/2001/XMLSchema#gYear')))\n",
            "(rdflib.term.Literal('Bulgaria'), rdflib.term.Literal('1905', datatype=rdflib.term.URIRef('http://www.w3.org/2001/XMLSchema#gYear')))\n",
            "(rdflib.term.Literal('Bulgaria'), rdflib.term.Literal('1910', datatype=rdflib.term.URIRef('http://www.w3.org/2001/XMLSchema#gYear')))\n",
            "(rdflib.term.Literal('Bulgaria'), rdflib.term.Literal('1920', datatype=rdflib.term.URIRef('http://www.w3.org/2001/XMLSchema#gYear')))\n",
            "(rdflib.term.Literal('Bulgaria'), rdflib.term.Literal('1926', datatype=rdflib.term.URIRef('http://www.w3.org/2001/XMLSchema#gYear')))\n",
            "(rdflib.term.Literal('Bulgaria'), rdflib.term.Literal('1934', datatype=rdflib.term.URIRef('http://www.w3.org/2001/XMLSchema#gYear')))\n",
            "(rdflib.term.Literal('Bulgaria'), rdflib.term.Literal('1946', datatype=rdflib.term.URIRef('http://www.w3.org/2001/XMLSchema#gYear')))\n",
            "(rdflib.term.Literal('Bulgaria'), rdflib.term.Literal('1956', datatype=rdflib.term.URIRef('http://www.w3.org/2001/XMLSchema#gYear')))\n",
            "(rdflib.term.Literal('Bulgaria'), rdflib.term.Literal('1965', datatype=rdflib.term.URIRef('http://www.w3.org/2001/XMLSchema#gYear')))\n",
            "(rdflib.term.Literal('Bulgaria'), rdflib.term.Literal('1975', datatype=rdflib.term.URIRef('http://www.w3.org/2001/XMLSchema#gYear')))\n",
            "(rdflib.term.Literal('Bulgaria'), rdflib.term.Literal('1985', datatype=rdflib.term.URIRef('http://www.w3.org/2001/XMLSchema#gYear')))\n",
            "(rdflib.term.Literal('Bulgaria'), rdflib.term.Literal('1992', datatype=rdflib.term.URIRef('http://www.w3.org/2001/XMLSchema#gYear')))\n",
            "(rdflib.term.Literal('Bulgaria'), rdflib.term.Literal('2001', datatype=rdflib.term.URIRef('http://www.w3.org/2001/XMLSchema#gYear')))\n",
            "(rdflib.term.Literal('Bulgaria'), rdflib.term.Literal('2011', datatype=rdflib.term.URIRef('http://www.w3.org/2001/XMLSchema#gYear')))\n",
            "(rdflib.term.Literal('Bulgaria'), rdflib.term.Literal('2021', datatype=rdflib.term.URIRef('http://www.w3.org/2001/XMLSchema#gYear')))\n",
            "(rdflib.term.Literal('Romania'), rdflib.term.Literal('1948', datatype=rdflib.term.URIRef('http://www.w3.org/2001/XMLSchema#gYear')))\n",
            "(rdflib.term.Literal('Romania'), rdflib.term.Literal('1956', datatype=rdflib.term.URIRef('http://www.w3.org/2001/XMLSchema#gYear')))\n",
            "(rdflib.term.Literal('Romania'), rdflib.term.Literal('1966', datatype=rdflib.term.URIRef('http://www.w3.org/2001/XMLSchema#gYear')))\n",
            "(rdflib.term.Literal('Romania'), rdflib.term.Literal('1977', datatype=rdflib.term.URIRef('http://www.w3.org/2001/XMLSchema#gYear')))\n",
            "(rdflib.term.Literal('Romania'), rdflib.term.Literal('1992', datatype=rdflib.term.URIRef('http://www.w3.org/2001/XMLSchema#gYear')))\n",
            "(rdflib.term.Literal('Romania'), rdflib.term.Literal('2002', datatype=rdflib.term.URIRef('http://www.w3.org/2001/XMLSchema#gYear')))\n",
            "(rdflib.term.Literal('Romania'), rdflib.term.Literal('2011', datatype=rdflib.term.URIRef('http://www.w3.org/2001/XMLSchema#gYear')))\n",
            "(rdflib.term.Literal('Denmark'), rdflib.term.Literal('1950', datatype=rdflib.term.URIRef('http://www.w3.org/2001/XMLSchema#gYear')))\n",
            "(rdflib.term.Literal('Denmark'), rdflib.term.Literal('1955', datatype=rdflib.term.URIRef('http://www.w3.org/2001/XMLSchema#gYear')))\n",
            "(rdflib.term.Literal('Denmark'), rdflib.term.Literal('1960', datatype=rdflib.term.URIRef('http://www.w3.org/2001/XMLSchema#gYear')))\n",
            "(rdflib.term.Literal('Denmark'), rdflib.term.Literal('1965', datatype=rdflib.term.URIRef('http://www.w3.org/2001/XMLSchema#gYear')))\n",
            "(rdflib.term.Literal('Denmark'), rdflib.term.Literal('1970', datatype=rdflib.term.URIRef('http://www.w3.org/2001/XMLSchema#gYear')))\n",
            "(rdflib.term.Literal('Denmark'), rdflib.term.Literal('1981', datatype=rdflib.term.URIRef('http://www.w3.org/2001/XMLSchema#gYear')))\n",
            "(rdflib.term.Literal('Denmark'), rdflib.term.Literal('1991', datatype=rdflib.term.URIRef('http://www.w3.org/2001/XMLSchema#gYear')))\n",
            "(rdflib.term.Literal('Denmark'), rdflib.term.Literal('2001', datatype=rdflib.term.URIRef('http://www.w3.org/2001/XMLSchema#gYear')))\n",
            "(rdflib.term.Literal('Denmark'), rdflib.term.Literal('2006', datatype=rdflib.term.URIRef('http://www.w3.org/2001/XMLSchema#gYear')))\n",
            "(rdflib.term.Literal('Denmark'), rdflib.term.Literal('2010', datatype=rdflib.term.URIRef('http://www.w3.org/2001/XMLSchema#gYear')))\n",
            "(rdflib.term.Literal('Denmark'), rdflib.term.Literal('2012', datatype=rdflib.term.URIRef('http://www.w3.org/2001/XMLSchema#gYear')))\n",
            "(rdflib.term.Literal('Denmark'), rdflib.term.Literal('2015', datatype=rdflib.term.URIRef('http://www.w3.org/2001/XMLSchema#gYear')))\n",
            "(rdflib.term.Literal('Iceland'), rdflib.term.Literal('1901', datatype=rdflib.term.URIRef('http://www.w3.org/2001/XMLSchema#gYear')))\n",
            "(rdflib.term.Literal('Iceland'), rdflib.term.Literal('1910', datatype=rdflib.term.URIRef('http://www.w3.org/2001/XMLSchema#gYear')))\n",
            "(rdflib.term.Literal('Iceland'), rdflib.term.Literal('1920', datatype=rdflib.term.URIRef('http://www.w3.org/2001/XMLSchema#gYear')))\n",
            "(rdflib.term.Literal('Iceland'), rdflib.term.Literal('1930', datatype=rdflib.term.URIRef('http://www.w3.org/2001/XMLSchema#gYear')))\n",
            "(rdflib.term.Literal('Iceland'), rdflib.term.Literal('1940', datatype=rdflib.term.URIRef('http://www.w3.org/2001/XMLSchema#gYear')))\n",
            "(rdflib.term.Literal('Iceland'), rdflib.term.Literal('1950', datatype=rdflib.term.URIRef('http://www.w3.org/2001/XMLSchema#gYear')))\n",
            "(rdflib.term.Literal('Iceland'), rdflib.term.Literal('1960', datatype=rdflib.term.URIRef('http://www.w3.org/2001/XMLSchema#gYear')))\n",
            "(rdflib.term.Literal('Iceland'), rdflib.term.Literal('1970', datatype=rdflib.term.URIRef('http://www.w3.org/2001/XMLSchema#gYear')))\n",
            "(rdflib.term.Literal('Iceland'), rdflib.term.Literal('1980', datatype=rdflib.term.URIRef('http://www.w3.org/2001/XMLSchema#gYear')))\n",
            "(rdflib.term.Literal('Iceland'), rdflib.term.Literal('1990', datatype=rdflib.term.URIRef('http://www.w3.org/2001/XMLSchema#gYear')))\n",
            "(rdflib.term.Literal('Iceland'), rdflib.term.Literal('2000', datatype=rdflib.term.URIRef('http://www.w3.org/2001/XMLSchema#gYear')))\n",
            "(rdflib.term.Literal('Iceland'), rdflib.term.Literal('2005', datatype=rdflib.term.URIRef('http://www.w3.org/2001/XMLSchema#gYear')))\n",
            "(rdflib.term.Literal('Iceland'), rdflib.term.Literal('2010', datatype=rdflib.term.URIRef('http://www.w3.org/2001/XMLSchema#gYear')))\n",
            "(rdflib.term.Literal('Iceland'), rdflib.term.Literal('2015', datatype=rdflib.term.URIRef('http://www.w3.org/2001/XMLSchema#gYear')))\n",
            "(rdflib.term.Literal('Iceland'), rdflib.term.Literal('2020', datatype=rdflib.term.URIRef('http://www.w3.org/2001/XMLSchema#gYear')))\n",
            "(rdflib.term.Literal('Faroe Islands'), rdflib.term.Literal('1950', datatype=rdflib.term.URIRef('http://www.w3.org/2001/XMLSchema#gYear')))\n",
            "(rdflib.term.Literal('Faroe Islands'), rdflib.term.Literal('1955', datatype=rdflib.term.URIRef('http://www.w3.org/2001/XMLSchema#gYear')))\n",
            "(rdflib.term.Literal('Faroe Islands'), rdflib.term.Literal('1960', datatype=rdflib.term.URIRef('http://www.w3.org/2001/XMLSchema#gYear')))\n",
            "(rdflib.term.Literal('Faroe Islands'), rdflib.term.Literal('1966', datatype=rdflib.term.URIRef('http://www.w3.org/2001/XMLSchema#gYear')))\n",
            "(rdflib.term.Literal('Faroe Islands'), rdflib.term.Literal('1970', datatype=rdflib.term.URIRef('http://www.w3.org/2001/XMLSchema#gYear')))\n",
            "(rdflib.term.Literal('Faroe Islands'), rdflib.term.Literal('1977', datatype=rdflib.term.URIRef('http://www.w3.org/2001/XMLSchema#gYear')))\n",
            "(rdflib.term.Literal('Faroe Islands'), rdflib.term.Literal('2009', datatype=rdflib.term.URIRef('http://www.w3.org/2001/XMLSchema#gYear')))\n",
            "(rdflib.term.Literal('Faroe Islands'), rdflib.term.Literal('2011', datatype=rdflib.term.URIRef('http://www.w3.org/2001/XMLSchema#gYear')))\n",
            "(rdflib.term.Literal('Ireland'), rdflib.term.Literal('1901', datatype=rdflib.term.URIRef('http://www.w3.org/2001/XMLSchema#gYear')))\n",
            "(rdflib.term.Literal('Ireland'), rdflib.term.Literal('1911', datatype=rdflib.term.URIRef('http://www.w3.org/2001/XMLSchema#gYear')))\n",
            "(rdflib.term.Literal('Ireland'), rdflib.term.Literal('1926', datatype=rdflib.term.URIRef('http://www.w3.org/2001/XMLSchema#gYear')))\n",
            "(rdflib.term.Literal('Ireland'), rdflib.term.Literal('1936', datatype=rdflib.term.URIRef('http://www.w3.org/2001/XMLSchema#gYear')))\n",
            "(rdflib.term.Literal('Ireland'), rdflib.term.Literal('1946', datatype=rdflib.term.URIRef('http://www.w3.org/2001/XMLSchema#gYear')))\n",
            "(rdflib.term.Literal('Ireland'), rdflib.term.Literal('1951', datatype=rdflib.term.URIRef('http://www.w3.org/2001/XMLSchema#gYear')))\n",
            "(rdflib.term.Literal('Ireland'), rdflib.term.Literal('1956', datatype=rdflib.term.URIRef('http://www.w3.org/2001/XMLSchema#gYear')))\n",
            "(rdflib.term.Literal('Ireland'), rdflib.term.Literal('1961', datatype=rdflib.term.URIRef('http://www.w3.org/2001/XMLSchema#gYear')))\n",
            "(rdflib.term.Literal('Ireland'), rdflib.term.Literal('1966', datatype=rdflib.term.URIRef('http://www.w3.org/2001/XMLSchema#gYear')))\n",
            "(rdflib.term.Literal('Ireland'), rdflib.term.Literal('1971', datatype=rdflib.term.URIRef('http://www.w3.org/2001/XMLSchema#gYear')))\n",
            "(rdflib.term.Literal('Ireland'), rdflib.term.Literal('1979', datatype=rdflib.term.URIRef('http://www.w3.org/2001/XMLSchema#gYear')))\n",
            "(rdflib.term.Literal('Ireland'), rdflib.term.Literal('1981', datatype=rdflib.term.URIRef('http://www.w3.org/2001/XMLSchema#gYear')))\n",
            "(rdflib.term.Literal('Ireland'), rdflib.term.Literal('1986', datatype=rdflib.term.URIRef('http://www.w3.org/2001/XMLSchema#gYear')))\n",
            "(rdflib.term.Literal('Ireland'), rdflib.term.Literal('1991', datatype=rdflib.term.URIRef('http://www.w3.org/2001/XMLSchema#gYear')))\n",
            "(rdflib.term.Literal('Ireland'), rdflib.term.Literal('1996', datatype=rdflib.term.URIRef('http://www.w3.org/2001/XMLSchema#gYear')))\n",
            "(rdflib.term.Literal('Ireland'), rdflib.term.Literal('2002', datatype=rdflib.term.URIRef('http://www.w3.org/2001/XMLSchema#gYear')))\n",
            "(rdflib.term.Literal('Ireland'), rdflib.term.Literal('2006', datatype=rdflib.term.URIRef('http://www.w3.org/2001/XMLSchema#gYear')))\n",
            "(rdflib.term.Literal('Ireland'), rdflib.term.Literal('2011', datatype=rdflib.term.URIRef('http://www.w3.org/2001/XMLSchema#gYear')))\n",
            "(rdflib.term.Literal('Ireland'), rdflib.term.Literal('2016', datatype=rdflib.term.URIRef('http://www.w3.org/2001/XMLSchema#gYear')))\n",
            "(rdflib.term.Literal('Ireland'), rdflib.term.Literal('2021', datatype=rdflib.term.URIRef('http://www.w3.org/2001/XMLSchema#gYear')))\n",
            "(rdflib.term.Literal('Finland'), rdflib.term.Literal('1950', datatype=rdflib.term.URIRef('http://www.w3.org/2001/XMLSchema#gYear')))\n",
            "(rdflib.term.Literal('Finland'), rdflib.term.Literal('1960', datatype=rdflib.term.URIRef('http://www.w3.org/2001/XMLSchema#gYear')))\n",
            "(rdflib.term.Literal('Finland'), rdflib.term.Literal('1970', datatype=rdflib.term.URIRef('http://www.w3.org/2001/XMLSchema#gYear')))\n",
            "(rdflib.term.Literal('Finland'), rdflib.term.Literal('1980', datatype=rdflib.term.URIRef('http://www.w3.org/2001/XMLSchema#gYear')))\n",
            "(rdflib.term.Literal('Finland'), rdflib.term.Literal('1990', datatype=rdflib.term.URIRef('http://www.w3.org/2001/XMLSchema#gYear')))\n",
            "(rdflib.term.Literal('Finland'), rdflib.term.Literal('2000', datatype=rdflib.term.URIRef('http://www.w3.org/2001/XMLSchema#gYear')))\n",
            "(rdflib.term.Literal('Finland'), rdflib.term.Literal('2010', datatype=rdflib.term.URIRef('http://www.w3.org/2001/XMLSchema#gYear')))\n",
            "(rdflib.term.Literal('Finland'), rdflib.term.Literal('2017', datatype=rdflib.term.URIRef('http://www.w3.org/2001/XMLSchema#gYear')))\n",
            "(rdflib.term.Literal('Norway'), rdflib.term.Literal('1950', datatype=rdflib.term.URIRef('http://www.w3.org/2001/XMLSchema#gYear')))\n",
            "(rdflib.term.Literal('Norway'), rdflib.term.Literal('1960', datatype=rdflib.term.URIRef('http://www.w3.org/2001/XMLSchema#gYear')))\n",
            "(rdflib.term.Literal('Norway'), rdflib.term.Literal('1970', datatype=rdflib.term.URIRef('http://www.w3.org/2001/XMLSchema#gYear')))\n",
            "(rdflib.term.Literal('Norway'), rdflib.term.Literal('1980', datatype=rdflib.term.URIRef('http://www.w3.org/2001/XMLSchema#gYear')))\n",
            "(rdflib.term.Literal('Norway'), rdflib.term.Literal('1990', datatype=rdflib.term.URIRef('http://www.w3.org/2001/XMLSchema#gYear')))\n",
            "(rdflib.term.Literal('Norway'), rdflib.term.Literal('2001', datatype=rdflib.term.URIRef('http://www.w3.org/2001/XMLSchema#gYear')))\n",
            "(rdflib.term.Literal('Norway'), rdflib.term.Literal('2011', datatype=rdflib.term.URIRef('http://www.w3.org/2001/XMLSchema#gYear')))\n",
            "(rdflib.term.Literal('Norway'), rdflib.term.Literal('2013', datatype=rdflib.term.URIRef('http://www.w3.org/2001/XMLSchema#gYear')))\n",
            "(rdflib.term.Literal('Sweden'), rdflib.term.Literal('1950', datatype=rdflib.term.URIRef('http://www.w3.org/2001/XMLSchema#gYear')))\n",
            "(rdflib.term.Literal('Sweden'), rdflib.term.Literal('1960', datatype=rdflib.term.URIRef('http://www.w3.org/2001/XMLSchema#gYear')))\n",
            "(rdflib.term.Literal('Sweden'), rdflib.term.Literal('1970', datatype=rdflib.term.URIRef('http://www.w3.org/2001/XMLSchema#gYear')))\n",
            "(rdflib.term.Literal('Sweden'), rdflib.term.Literal('1980', datatype=rdflib.term.URIRef('http://www.w3.org/2001/XMLSchema#gYear')))\n",
            "(rdflib.term.Literal('Sweden'), rdflib.term.Literal('1990', datatype=rdflib.term.URIRef('http://www.w3.org/2001/XMLSchema#gYear')))\n",
            "(rdflib.term.Literal('Sweden'), rdflib.term.Literal('1997', datatype=rdflib.term.URIRef('http://www.w3.org/2001/XMLSchema#gYear')))\n",
            "(rdflib.term.Literal('Sweden'), rdflib.term.Literal('2000', datatype=rdflib.term.URIRef('http://www.w3.org/2001/XMLSchema#gYear')))\n",
            "(rdflib.term.Literal('Sweden'), rdflib.term.Literal('2004', datatype=rdflib.term.URIRef('http://www.w3.org/2001/XMLSchema#gYear')))\n",
            "(rdflib.term.Literal('Sweden'), rdflib.term.Literal('2009', datatype=rdflib.term.URIRef('http://www.w3.org/2001/XMLSchema#gYear')))\n",
            "(rdflib.term.Literal('Sweden'), rdflib.term.Literal('2012', datatype=rdflib.term.URIRef('http://www.w3.org/2001/XMLSchema#gYear')))\n",
            "(rdflib.term.Literal('Monaco'), rdflib.term.Literal('1950', datatype=rdflib.term.URIRef('http://www.w3.org/2001/XMLSchema#gYear')))\n",
            "(rdflib.term.Literal('Monaco'), rdflib.term.Literal('1951', datatype=rdflib.term.URIRef('http://www.w3.org/2001/XMLSchema#gYear')))\n",
            "(rdflib.term.Literal('Monaco'), rdflib.term.Literal('1956', datatype=rdflib.term.URIRef('http://www.w3.org/2001/XMLSchema#gYear')))\n",
            "(rdflib.term.Literal('Monaco'), rdflib.term.Literal('1961', datatype=rdflib.term.URIRef('http://www.w3.org/2001/XMLSchema#gYear')))\n",
            "(rdflib.term.Literal('Monaco'), rdflib.term.Literal('1962', datatype=rdflib.term.URIRef('http://www.w3.org/2001/XMLSchema#gYear')))\n",
            "(rdflib.term.Literal('Monaco'), rdflib.term.Literal('1968', datatype=rdflib.term.URIRef('http://www.w3.org/2001/XMLSchema#gYear')))\n",
            "(rdflib.term.Literal('Monaco'), rdflib.term.Literal('1975', datatype=rdflib.term.URIRef('http://www.w3.org/2001/XMLSchema#gYear')))\n",
            "(rdflib.term.Literal('Monaco'), rdflib.term.Literal('1982', datatype=rdflib.term.URIRef('http://www.w3.org/2001/XMLSchema#gYear')))\n",
            "(rdflib.term.Literal('Monaco'), rdflib.term.Literal('1990', datatype=rdflib.term.URIRef('http://www.w3.org/2001/XMLSchema#gYear')))\n",
            "(rdflib.term.Literal('Monaco'), rdflib.term.Literal('2000', datatype=rdflib.term.URIRef('http://www.w3.org/2001/XMLSchema#gYear')))\n",
            "(rdflib.term.Literal('Monaco'), rdflib.term.Literal('2008', datatype=rdflib.term.URIRef('http://www.w3.org/2001/XMLSchema#gYear')))\n",
            "(rdflib.term.Literal('Monaco'), rdflib.term.Literal('2016', datatype=rdflib.term.URIRef('http://www.w3.org/2001/XMLSchema#gYear')))\n",
            "(rdflib.term.Literal('Vatican City'), rdflib.term.Literal('1931', datatype=rdflib.term.URIRef('http://www.w3.org/2001/XMLSchema#gYear')))\n",
            "(rdflib.term.Literal('Vatican City'), rdflib.term.Literal('1997', datatype=rdflib.term.URIRef('http://www.w3.org/2001/XMLSchema#gYear')))\n",
            "(rdflib.term.Literal('Vatican City'), rdflib.term.Literal('2014', datatype=rdflib.term.URIRef('http://www.w3.org/2001/XMLSchema#gYear')))\n",
            "(rdflib.term.Literal('Vatican City'), rdflib.term.Literal('2018', datatype=rdflib.term.URIRef('http://www.w3.org/2001/XMLSchema#gYear')))\n",
            "(rdflib.term.Literal('San Marino'), rdflib.term.Literal('1950', datatype=rdflib.term.URIRef('http://www.w3.org/2001/XMLSchema#gYear')))\n",
            "(rdflib.term.Literal('San Marino'), rdflib.term.Literal('1960', datatype=rdflib.term.URIRef('http://www.w3.org/2001/XMLSchema#gYear')))\n",
            "(rdflib.term.Literal('San Marino'), rdflib.term.Literal('1970', datatype=rdflib.term.URIRef('http://www.w3.org/2001/XMLSchema#gYear')))\n",
            "(rdflib.term.Literal('San Marino'), rdflib.term.Literal('1976', datatype=rdflib.term.URIRef('http://www.w3.org/2001/XMLSchema#gYear')))\n",
            "(rdflib.term.Literal('San Marino'), rdflib.term.Literal('1997', datatype=rdflib.term.URIRef('http://www.w3.org/2001/XMLSchema#gYear')))\n",
            "(rdflib.term.Literal('San Marino'), rdflib.term.Literal('2000', datatype=rdflib.term.URIRef('http://www.w3.org/2001/XMLSchema#gYear')))\n",
            "(rdflib.term.Literal('San Marino'), rdflib.term.Literal('2010', datatype=rdflib.term.URIRef('http://www.w3.org/2001/XMLSchema#gYear')))\n",
            "(rdflib.term.Literal('San Marino'), rdflib.term.Literal('2020', datatype=rdflib.term.URIRef('http://www.w3.org/2001/XMLSchema#gYear')))\n",
            "(rdflib.term.Literal('Malta'), rdflib.term.Literal('1948', datatype=rdflib.term.URIRef('http://www.w3.org/2001/XMLSchema#gYear')))\n",
            "(rdflib.term.Literal('Malta'), rdflib.term.Literal('1957', datatype=rdflib.term.URIRef('http://www.w3.org/2001/XMLSchema#gYear')))\n",
            "(rdflib.term.Literal('Malta'), rdflib.term.Literal('1967', datatype=rdflib.term.URIRef('http://www.w3.org/2001/XMLSchema#gYear')))\n",
            "(rdflib.term.Literal('Malta'), rdflib.term.Literal('1985', datatype=rdflib.term.URIRef('http://www.w3.org/2001/XMLSchema#gYear')))\n",
            "(rdflib.term.Literal('Malta'), rdflib.term.Literal('1995', datatype=rdflib.term.URIRef('http://www.w3.org/2001/XMLSchema#gYear')))\n",
            "(rdflib.term.Literal('Malta'), rdflib.term.Literal('2005', datatype=rdflib.term.URIRef('http://www.w3.org/2001/XMLSchema#gYear')))\n",
            "(rdflib.term.Literal('Malta'), rdflib.term.Literal('2011', datatype=rdflib.term.URIRef('http://www.w3.org/2001/XMLSchema#gYear')))\n",
            "(rdflib.term.Literal('Malta'), rdflib.term.Literal('2021', datatype=rdflib.term.URIRef('http://www.w3.org/2001/XMLSchema#gYear')))\n",
            "(rdflib.term.Literal('Isle of Man'), rdflib.term.Literal('1950', datatype=rdflib.term.URIRef('http://www.w3.org/2001/XMLSchema#gYear')))\n",
            "(rdflib.term.Literal('Isle of Man'), rdflib.term.Literal('1951', datatype=rdflib.term.URIRef('http://www.w3.org/2001/XMLSchema#gYear')))\n",
            "(rdflib.term.Literal('Isle of Man'), rdflib.term.Literal('1961', datatype=rdflib.term.URIRef('http://www.w3.org/2001/XMLSchema#gYear')))\n",
            "(rdflib.term.Literal('Isle of Man'), rdflib.term.Literal('1966', datatype=rdflib.term.URIRef('http://www.w3.org/2001/XMLSchema#gYear')))\n",
            "(rdflib.term.Literal('Isle of Man'), rdflib.term.Literal('1971', datatype=rdflib.term.URIRef('http://www.w3.org/2001/XMLSchema#gYear')))\n",
            "(rdflib.term.Literal('Isle of Man'), rdflib.term.Literal('1976', datatype=rdflib.term.URIRef('http://www.w3.org/2001/XMLSchema#gYear')))\n",
            "(rdflib.term.Literal('Isle of Man'), rdflib.term.Literal('1981', datatype=rdflib.term.URIRef('http://www.w3.org/2001/XMLSchema#gYear')))\n",
            "(rdflib.term.Literal('Isle of Man'), rdflib.term.Literal('1986', datatype=rdflib.term.URIRef('http://www.w3.org/2001/XMLSchema#gYear')))\n",
            "(rdflib.term.Literal('Isle of Man'), rdflib.term.Literal('1991', datatype=rdflib.term.URIRef('http://www.w3.org/2001/XMLSchema#gYear')))\n",
            "(rdflib.term.Literal('Isle of Man'), rdflib.term.Literal('1996', datatype=rdflib.term.URIRef('http://www.w3.org/2001/XMLSchema#gYear')))\n",
            "(rdflib.term.Literal('Isle of Man'), rdflib.term.Literal('2001', datatype=rdflib.term.URIRef('http://www.w3.org/2001/XMLSchema#gYear')))\n",
            "(rdflib.term.Literal('Isle of Man'), rdflib.term.Literal('2006', datatype=rdflib.term.URIRef('http://www.w3.org/2001/XMLSchema#gYear')))\n",
            "(rdflib.term.Literal('Isle of Man'), rdflib.term.Literal('2011', datatype=rdflib.term.URIRef('http://www.w3.org/2001/XMLSchema#gYear')))\n",
            "(rdflib.term.Literal('Isle of Man'), rdflib.term.Literal('2016', datatype=rdflib.term.URIRef('http://www.w3.org/2001/XMLSchema#gYear')))\n",
            "(rdflib.term.Literal('Isle of Man'), rdflib.term.Literal('2021', datatype=rdflib.term.URIRef('http://www.w3.org/2001/XMLSchema#gYear')))\n",
            "(rdflib.term.Literal('Moldova'), rdflib.term.Literal('1950', datatype=rdflib.term.URIRef('http://www.w3.org/2001/XMLSchema#gYear')))\n",
            "(rdflib.term.Literal('Moldova'), rdflib.term.Literal('1959', datatype=rdflib.term.URIRef('http://www.w3.org/2001/XMLSchema#gYear')))\n",
            "(rdflib.term.Literal('Moldova'), rdflib.term.Literal('1970', datatype=rdflib.term.URIRef('http://www.w3.org/2001/XMLSchema#gYear')))\n",
            "(rdflib.term.Literal('Moldova'), rdflib.term.Literal('1979', datatype=rdflib.term.URIRef('http://www.w3.org/2001/XMLSchema#gYear')))\n",
            "(rdflib.term.Literal('Moldova'), rdflib.term.Literal('1989', datatype=rdflib.term.URIRef('http://www.w3.org/2001/XMLSchema#gYear')))\n",
            "(rdflib.term.Literal('Moldova'), rdflib.term.Literal('2004', datatype=rdflib.term.URIRef('http://www.w3.org/2001/XMLSchema#gYear')))\n",
            "(rdflib.term.Literal('Moldova'), rdflib.term.Literal('2012', datatype=rdflib.term.URIRef('http://www.w3.org/2001/XMLSchema#gYear')))\n",
            "(rdflib.term.Literal('Portugal'), rdflib.term.Literal('1864', datatype=rdflib.term.URIRef('http://www.w3.org/2001/XMLSchema#gYear')))\n",
            "(rdflib.term.Literal('Portugal'), rdflib.term.Literal('1878', datatype=rdflib.term.URIRef('http://www.w3.org/2001/XMLSchema#gYear')))\n",
            "(rdflib.term.Literal('Portugal'), rdflib.term.Literal('1890', datatype=rdflib.term.URIRef('http://www.w3.org/2001/XMLSchema#gYear')))\n",
            "(rdflib.term.Literal('Portugal'), rdflib.term.Literal('1900', datatype=rdflib.term.URIRef('http://www.w3.org/2001/XMLSchema#gYear')))\n",
            "(rdflib.term.Literal('Portugal'), rdflib.term.Literal('1911', datatype=rdflib.term.URIRef('http://www.w3.org/2001/XMLSchema#gYear')))\n",
            "(rdflib.term.Literal('Portugal'), rdflib.term.Literal('1920', datatype=rdflib.term.URIRef('http://www.w3.org/2001/XMLSchema#gYear')))\n",
            "(rdflib.term.Literal('Portugal'), rdflib.term.Literal('1930', datatype=rdflib.term.URIRef('http://www.w3.org/2001/XMLSchema#gYear')))\n",
            "(rdflib.term.Literal('Portugal'), rdflib.term.Literal('1940', datatype=rdflib.term.URIRef('http://www.w3.org/2001/XMLSchema#gYear')))\n",
            "(rdflib.term.Literal('Portugal'), rdflib.term.Literal('1950', datatype=rdflib.term.URIRef('http://www.w3.org/2001/XMLSchema#gYear')))\n",
            "(rdflib.term.Literal('Portugal'), rdflib.term.Literal('1960', datatype=rdflib.term.URIRef('http://www.w3.org/2001/XMLSchema#gYear')))\n",
            "(rdflib.term.Literal('Portugal'), rdflib.term.Literal('1970', datatype=rdflib.term.URIRef('http://www.w3.org/2001/XMLSchema#gYear')))\n",
            "(rdflib.term.Literal('Portugal'), rdflib.term.Literal('1981', datatype=rdflib.term.URIRef('http://www.w3.org/2001/XMLSchema#gYear')))\n",
            "(rdflib.term.Literal('Portugal'), rdflib.term.Literal('1991', datatype=rdflib.term.URIRef('http://www.w3.org/2001/XMLSchema#gYear')))\n",
            "(rdflib.term.Literal('Portugal'), rdflib.term.Literal('2001', datatype=rdflib.term.URIRef('http://www.w3.org/2001/XMLSchema#gYear')))\n",
            "(rdflib.term.Literal('Portugal'), rdflib.term.Literal('2011', datatype=rdflib.term.URIRef('http://www.w3.org/2001/XMLSchema#gYear')))\n",
            "(rdflib.term.Literal('Portugal'), rdflib.term.Literal('2021', datatype=rdflib.term.URIRef('http://www.w3.org/2001/XMLSchema#gYear')))\n",
            "(rdflib.term.Literal('Svalbard'), rdflib.term.Literal('1987', datatype=rdflib.term.URIRef('http://www.w3.org/2001/XMLSchema#gYear')))\n",
            "(rdflib.term.Literal('Svalbard'), rdflib.term.Literal('2016', datatype=rdflib.term.URIRef('http://www.w3.org/2001/XMLSchema#gYear')))\n",
            "(rdflib.term.Literal('United Kingdom'), rdflib.term.Literal('1950', datatype=rdflib.term.URIRef('http://www.w3.org/2001/XMLSchema#gYear')))\n",
            "(rdflib.term.Literal('United Kingdom'), rdflib.term.Literal('1960', datatype=rdflib.term.URIRef('http://www.w3.org/2001/XMLSchema#gYear')))\n",
            "(rdflib.term.Literal('United Kingdom'), rdflib.term.Literal('1970', datatype=rdflib.term.URIRef('http://www.w3.org/2001/XMLSchema#gYear')))\n",
            "(rdflib.term.Literal('United Kingdom'), rdflib.term.Literal('1980', datatype=rdflib.term.URIRef('http://www.w3.org/2001/XMLSchema#gYear')))\n",
            "(rdflib.term.Literal('United Kingdom'), rdflib.term.Literal('1990', datatype=rdflib.term.URIRef('http://www.w3.org/2001/XMLSchema#gYear')))\n",
            "(rdflib.term.Literal('United Kingdom'), rdflib.term.Literal('1991', datatype=rdflib.term.URIRef('http://www.w3.org/2001/XMLSchema#gYear')))\n",
            "(rdflib.term.Literal('United Kingdom'), rdflib.term.Literal('2001', datatype=rdflib.term.URIRef('http://www.w3.org/2001/XMLSchema#gYear')))\n",
            "(rdflib.term.Literal('United Kingdom'), rdflib.term.Literal('2011', datatype=rdflib.term.URIRef('http://www.w3.org/2001/XMLSchema#gYear')))\n",
            "(rdflib.term.Literal('United Kingdom'), rdflib.term.Literal('2021', datatype=rdflib.term.URIRef('http://www.w3.org/2001/XMLSchema#gYear')))\n",
            "(rdflib.term.Literal('Gibraltar'), rdflib.term.Literal('1753', datatype=rdflib.term.URIRef('http://www.w3.org/2001/XMLSchema#gYear')))\n",
            "(rdflib.term.Literal('Gibraltar'), rdflib.term.Literal('1767', datatype=rdflib.term.URIRef('http://www.w3.org/2001/XMLSchema#gYear')))\n",
            "(rdflib.term.Literal('Gibraltar'), rdflib.term.Literal('1777', datatype=rdflib.term.URIRef('http://www.w3.org/2001/XMLSchema#gYear')))\n",
            "(rdflib.term.Literal('Gibraltar'), rdflib.term.Literal('1787', datatype=rdflib.term.URIRef('http://www.w3.org/2001/XMLSchema#gYear')))\n",
            "(rdflib.term.Literal('Gibraltar'), rdflib.term.Literal('1791', datatype=rdflib.term.URIRef('http://www.w3.org/2001/XMLSchema#gYear')))\n",
            "(rdflib.term.Literal('Gibraltar'), rdflib.term.Literal('1814', datatype=rdflib.term.URIRef('http://www.w3.org/2001/XMLSchema#gYear')))\n",
            "(rdflib.term.Literal('Gibraltar'), rdflib.term.Literal('1834', datatype=rdflib.term.URIRef('http://www.w3.org/2001/XMLSchema#gYear')))\n",
            "(rdflib.term.Literal('Gibraltar'), rdflib.term.Literal('1844', datatype=rdflib.term.URIRef('http://www.w3.org/2001/XMLSchema#gYear')))\n",
            "(rdflib.term.Literal('Gibraltar'), rdflib.term.Literal('1871', datatype=rdflib.term.URIRef('http://www.w3.org/2001/XMLSchema#gYear')))\n",
            "(rdflib.term.Literal('Gibraltar'), rdflib.term.Literal('1878', datatype=rdflib.term.URIRef('http://www.w3.org/2001/XMLSchema#gYear')))\n",
            "(rdflib.term.Literal('Gibraltar'), rdflib.term.Literal('1881', datatype=rdflib.term.URIRef('http://www.w3.org/2001/XMLSchema#gYear')))\n",
            "(rdflib.term.Literal('Gibraltar'), rdflib.term.Literal('1891', datatype=rdflib.term.URIRef('http://www.w3.org/2001/XMLSchema#gYear')))\n",
            "(rdflib.term.Literal('Gibraltar'), rdflib.term.Literal('1901', datatype=rdflib.term.URIRef('http://www.w3.org/2001/XMLSchema#gYear')))\n",
            "(rdflib.term.Literal('Gibraltar'), rdflib.term.Literal('1911', datatype=rdflib.term.URIRef('http://www.w3.org/2001/XMLSchema#gYear')))\n",
            "(rdflib.term.Literal('Gibraltar'), rdflib.term.Literal('1921', datatype=rdflib.term.URIRef('http://www.w3.org/2001/XMLSchema#gYear')))\n",
            "(rdflib.term.Literal('Gibraltar'), rdflib.term.Literal('1931', datatype=rdflib.term.URIRef('http://www.w3.org/2001/XMLSchema#gYear')))\n",
            "(rdflib.term.Literal('Gibraltar'), rdflib.term.Literal('1951', datatype=rdflib.term.URIRef('http://www.w3.org/2001/XMLSchema#gYear')))\n",
            "(rdflib.term.Literal('Gibraltar'), rdflib.term.Literal('1961', datatype=rdflib.term.URIRef('http://www.w3.org/2001/XMLSchema#gYear')))\n",
            "(rdflib.term.Literal('Gibraltar'), rdflib.term.Literal('1970', datatype=rdflib.term.URIRef('http://www.w3.org/2001/XMLSchema#gYear')))\n",
            "(rdflib.term.Literal('Gibraltar'), rdflib.term.Literal('1981', datatype=rdflib.term.URIRef('http://www.w3.org/2001/XMLSchema#gYear')))\n",
            "(rdflib.term.Literal('Gibraltar'), rdflib.term.Literal('1991', datatype=rdflib.term.URIRef('http://www.w3.org/2001/XMLSchema#gYear')))\n",
            "(rdflib.term.Literal('Gibraltar'), rdflib.term.Literal('2001', datatype=rdflib.term.URIRef('http://www.w3.org/2001/XMLSchema#gYear')))\n",
            "(rdflib.term.Literal('Gibraltar'), rdflib.term.Literal('2012', datatype=rdflib.term.URIRef('http://www.w3.org/2001/XMLSchema#gYear')))\n",
            "(rdflib.term.Literal('Guernsey'), rdflib.term.Literal('1951', datatype=rdflib.term.URIRef('http://www.w3.org/2001/XMLSchema#gYear')))\n",
            "(rdflib.term.Literal('Guernsey'), rdflib.term.Literal('1961', datatype=rdflib.term.URIRef('http://www.w3.org/2001/XMLSchema#gYear')))\n",
            "(rdflib.term.Literal('Guernsey'), rdflib.term.Literal('1971', datatype=rdflib.term.URIRef('http://www.w3.org/2001/XMLSchema#gYear')))\n",
            "(rdflib.term.Literal('Guernsey'), rdflib.term.Literal('1976', datatype=rdflib.term.URIRef('http://www.w3.org/2001/XMLSchema#gYear')))\n",
            "(rdflib.term.Literal('Guernsey'), rdflib.term.Literal('1981', datatype=rdflib.term.URIRef('http://www.w3.org/2001/XMLSchema#gYear')))\n",
            "(rdflib.term.Literal('Guernsey'), rdflib.term.Literal('1991', datatype=rdflib.term.URIRef('http://www.w3.org/2001/XMLSchema#gYear')))\n",
            "(rdflib.term.Literal('Guernsey'), rdflib.term.Literal('1996', datatype=rdflib.term.URIRef('http://www.w3.org/2001/XMLSchema#gYear')))\n",
            "(rdflib.term.Literal('Guernsey'), rdflib.term.Literal('2001', datatype=rdflib.term.URIRef('http://www.w3.org/2001/XMLSchema#gYear')))\n",
            "(rdflib.term.Literal('Guernsey'), rdflib.term.Literal('2016', datatype=rdflib.term.URIRef('http://www.w3.org/2001/XMLSchema#gYear')))\n",
            "(rdflib.term.Literal('Guernsey'), rdflib.term.Literal('2021', datatype=rdflib.term.URIRef('http://www.w3.org/2001/XMLSchema#gYear')))\n",
            "(rdflib.term.Literal('Jersey'), rdflib.term.Literal('1821', datatype=rdflib.term.URIRef('http://www.w3.org/2001/XMLSchema#gYear')))\n",
            "(rdflib.term.Literal('Jersey'), rdflib.term.Literal('1831', datatype=rdflib.term.URIRef('http://www.w3.org/2001/XMLSchema#gYear')))\n",
            "(rdflib.term.Literal('Jersey'), rdflib.term.Literal('1841', datatype=rdflib.term.URIRef('http://www.w3.org/2001/XMLSchema#gYear')))\n",
            "(rdflib.term.Literal('Jersey'), rdflib.term.Literal('1851', datatype=rdflib.term.URIRef('http://www.w3.org/2001/XMLSchema#gYear')))\n",
            "(rdflib.term.Literal('Jersey'), rdflib.term.Literal('1861', datatype=rdflib.term.URIRef('http://www.w3.org/2001/XMLSchema#gYear')))\n",
            "(rdflib.term.Literal('Jersey'), rdflib.term.Literal('1871', datatype=rdflib.term.URIRef('http://www.w3.org/2001/XMLSchema#gYear')))\n",
            "(rdflib.term.Literal('Jersey'), rdflib.term.Literal('1881', datatype=rdflib.term.URIRef('http://www.w3.org/2001/XMLSchema#gYear')))\n",
            "(rdflib.term.Literal('Jersey'), rdflib.term.Literal('1891', datatype=rdflib.term.URIRef('http://www.w3.org/2001/XMLSchema#gYear')))\n",
            "(rdflib.term.Literal('Jersey'), rdflib.term.Literal('1901', datatype=rdflib.term.URIRef('http://www.w3.org/2001/XMLSchema#gYear')))\n",
            "(rdflib.term.Literal('Jersey'), rdflib.term.Literal('1911', datatype=rdflib.term.URIRef('http://www.w3.org/2001/XMLSchema#gYear')))\n",
            "(rdflib.term.Literal('Jersey'), rdflib.term.Literal('1921', datatype=rdflib.term.URIRef('http://www.w3.org/2001/XMLSchema#gYear')))\n",
            "(rdflib.term.Literal('Jersey'), rdflib.term.Literal('1931', datatype=rdflib.term.URIRef('http://www.w3.org/2001/XMLSchema#gYear')))\n",
            "(rdflib.term.Literal('Jersey'), rdflib.term.Literal('1939', datatype=rdflib.term.URIRef('http://www.w3.org/2001/XMLSchema#gYear')))\n",
            "(rdflib.term.Literal('Jersey'), rdflib.term.Literal('1951', datatype=rdflib.term.URIRef('http://www.w3.org/2001/XMLSchema#gYear')))\n",
            "(rdflib.term.Literal('Jersey'), rdflib.term.Literal('1961', datatype=rdflib.term.URIRef('http://www.w3.org/2001/XMLSchema#gYear')))\n",
            "(rdflib.term.Literal('Jersey'), rdflib.term.Literal('1971', datatype=rdflib.term.URIRef('http://www.w3.org/2001/XMLSchema#gYear')))\n",
            "(rdflib.term.Literal('Jersey'), rdflib.term.Literal('1976', datatype=rdflib.term.URIRef('http://www.w3.org/2001/XMLSchema#gYear')))\n",
            "(rdflib.term.Literal('Jersey'), rdflib.term.Literal('1981', datatype=rdflib.term.URIRef('http://www.w3.org/2001/XMLSchema#gYear')))\n",
            "(rdflib.term.Literal('Jersey'), rdflib.term.Literal('1986', datatype=rdflib.term.URIRef('http://www.w3.org/2001/XMLSchema#gYear')))\n",
            "(rdflib.term.Literal('Jersey'), rdflib.term.Literal('1989', datatype=rdflib.term.URIRef('http://www.w3.org/2001/XMLSchema#gYear')))\n",
            "(rdflib.term.Literal('Jersey'), rdflib.term.Literal('1991', datatype=rdflib.term.URIRef('http://www.w3.org/2001/XMLSchema#gYear')))\n",
            "(rdflib.term.Literal('Jersey'), rdflib.term.Literal('1996', datatype=rdflib.term.URIRef('http://www.w3.org/2001/XMLSchema#gYear')))\n",
            "(rdflib.term.Literal('Jersey'), rdflib.term.Literal('2001', datatype=rdflib.term.URIRef('http://www.w3.org/2001/XMLSchema#gYear')))\n",
            "(rdflib.term.Literal('Jersey'), rdflib.term.Literal('2011', datatype=rdflib.term.URIRef('http://www.w3.org/2001/XMLSchema#gYear')))\n",
            "(rdflib.term.Literal('Jersey'), rdflib.term.Literal('2021', datatype=rdflib.term.URIRef('http://www.w3.org/2001/XMLSchema#gYear')))\n",
            "(rdflib.term.Literal('Turkey'), rdflib.term.Literal('1927', datatype=rdflib.term.URIRef('http://www.w3.org/2001/XMLSchema#gYear')))\n",
            "(rdflib.term.Literal('Turkey'), rdflib.term.Literal('1935', datatype=rdflib.term.URIRef('http://www.w3.org/2001/XMLSchema#gYear')))\n",
            "(rdflib.term.Literal('Turkey'), rdflib.term.Literal('1940', datatype=rdflib.term.URIRef('http://www.w3.org/2001/XMLSchema#gYear')))\n",
            "(rdflib.term.Literal('Turkey'), rdflib.term.Literal('1945', datatype=rdflib.term.URIRef('http://www.w3.org/2001/XMLSchema#gYear')))\n",
            "(rdflib.term.Literal('Turkey'), rdflib.term.Literal('1950', datatype=rdflib.term.URIRef('http://www.w3.org/2001/XMLSchema#gYear')))\n",
            "(rdflib.term.Literal('Turkey'), rdflib.term.Literal('1955', datatype=rdflib.term.URIRef('http://www.w3.org/2001/XMLSchema#gYear')))\n",
            "(rdflib.term.Literal('Turkey'), rdflib.term.Literal('1960', datatype=rdflib.term.URIRef('http://www.w3.org/2001/XMLSchema#gYear')))\n",
            "(rdflib.term.Literal('Turkey'), rdflib.term.Literal('1965', datatype=rdflib.term.URIRef('http://www.w3.org/2001/XMLSchema#gYear')))\n",
            "(rdflib.term.Literal('Turkey'), rdflib.term.Literal('1970', datatype=rdflib.term.URIRef('http://www.w3.org/2001/XMLSchema#gYear')))\n",
            "(rdflib.term.Literal('Turkey'), rdflib.term.Literal('1975', datatype=rdflib.term.URIRef('http://www.w3.org/2001/XMLSchema#gYear')))\n",
            "(rdflib.term.Literal('Turkey'), rdflib.term.Literal('1980', datatype=rdflib.term.URIRef('http://www.w3.org/2001/XMLSchema#gYear')))\n",
            "(rdflib.term.Literal('Turkey'), rdflib.term.Literal('1985', datatype=rdflib.term.URIRef('http://www.w3.org/2001/XMLSchema#gYear')))\n",
            "(rdflib.term.Literal('Turkey'), rdflib.term.Literal('1990', datatype=rdflib.term.URIRef('http://www.w3.org/2001/XMLSchema#gYear')))\n",
            "(rdflib.term.Literal('Turkey'), rdflib.term.Literal('2000', datatype=rdflib.term.URIRef('http://www.w3.org/2001/XMLSchema#gYear')))\n",
            "(rdflib.term.Literal('Turkey'), rdflib.term.Literal('2011', datatype=rdflib.term.URIRef('http://www.w3.org/2001/XMLSchema#gYear')))\n",
            "(rdflib.term.Literal('Turkey'), rdflib.term.Literal('2021', datatype=rdflib.term.URIRef('http://www.w3.org/2001/XMLSchema#gYear')))\n",
            "(rdflib.term.Literal('Kazakhstan'), rdflib.term.Literal('1950', datatype=rdflib.term.URIRef('http://www.w3.org/2001/XMLSchema#gYear')))\n",
            "(rdflib.term.Literal('Kazakhstan'), rdflib.term.Literal('1959', datatype=rdflib.term.URIRef('http://www.w3.org/2001/XMLSchema#gYear')))\n",
            "(rdflib.term.Literal('Kazakhstan'), rdflib.term.Literal('1970', datatype=rdflib.term.URIRef('http://www.w3.org/2001/XMLSchema#gYear')))\n",
            "(rdflib.term.Literal('Kazakhstan'), rdflib.term.Literal('1979', datatype=rdflib.term.URIRef('http://www.w3.org/2001/XMLSchema#gYear')))\n",
            "(rdflib.term.Literal('Kazakhstan'), rdflib.term.Literal('1989', datatype=rdflib.term.URIRef('http://www.w3.org/2001/XMLSchema#gYear')))\n",
            "(rdflib.term.Literal('Kazakhstan'), rdflib.term.Literal('1999', datatype=rdflib.term.URIRef('http://www.w3.org/2001/XMLSchema#gYear')))\n",
            "(rdflib.term.Literal('Kazakhstan'), rdflib.term.Literal('2009', datatype=rdflib.term.URIRef('http://www.w3.org/2001/XMLSchema#gYear')))\n",
            "(rdflib.term.Literal('Kazakhstan'), rdflib.term.Literal('2014', datatype=rdflib.term.URIRef('http://www.w3.org/2001/XMLSchema#gYear')))\n"
          ]
        }
      ]
    },
    {
      "cell_type": "markdown",
      "source": [
        "### Aplicação"
      ],
      "metadata": {
        "id": "CJ0mwFVLKjX0"
      }
    },
    {
      "cell_type": "markdown",
      "source": [
        "#### Definição: Ordem de geração, pronomes e domínio especificados"
      ],
      "metadata": {
        "id": "1mGi99KMKuXk"
      }
    },
    {
      "cell_type": "code",
      "source": [
        "#First: generate a SELF_EXPLANATORY utterance and after a not self explanatory utterance\n",
        "orderToGenerate = [(1,\"SE\"), (2,\"NSE\")]\n",
        "pronoms = (\"his/her\",\"your\")\n",
        "domains = (\"Country\", \"Organization\", \"City\")"
      ],
      "metadata": {
        "id": "anvcS1c-Kpz9"
      },
      "execution_count": 118,
      "outputs": []
    },
    {
      "cell_type": "markdown",
      "source": [
        "#### Definição: Template dos enunciados"
      ],
      "metadata": {
        "id": "KKmR_SQBK19k"
      }
    },
    {
      "cell_type": "code",
      "source": [
        "#All utterances possibles \n",
        "dictionaryTemplateFromData = {\n",
        "    \"Country\":{\n",
        "      \"government\": {\"SE\": \"What is the government of [SUJ]?\", \"NSE\": \"What is [PRO] government?\"},\n",
        "      \"area\": {\"SE\":\"What is the area of [SUJ]?\", \"NSE\":\"What is [PRO] area?\"},\n",
        "      \"capital\":{\"SE\": \"What is the capital of [SUJ]?\", \"NSE\":\"What is [PRO] capital?\"},\n",
        "      \"carCode\" : {\"SE\": \"What is car code of [SUJ]?\", \"NSE\":\"What is [PRO] car code?\"},\n",
        "      \"infantMortality\" : {\"SE\": \"What is infant mortality rate of [SUJ]?\", \"NSE\":\"What is [PRO] car code?\"},\n",
        "      \"hasCity\": {\"SE\": \"[SUJ] has city of [OBJ]?\", \"NSE\":\"[OBJ] is [PRO] city?\"},\n",
        "      \"hadPopulation\": {\"SE\": \"What was the total population in [OBJ] of [SUJ]?\", \"NSE\":\"What was [PRO] total population in [OBJ]?\"},\n",
        "      \"isMember\":{\"SE\": \"[SUJ] is a member of which organization?\", \"NSE\":\"What is [PRO] organization?\"},\n",
        "    },\n",
        "    \"City\":{\n",
        "        \"locatedIn\" : {\"SE\": \"What is location of [SUJ]?\", \"NSE\":\"What is [PRO] location?\"},\n",
        "        \"isCapital\": {\"SE\": \"[SUJ] is capital?\", \"NSE\":\"Is a capital?\"},\n",
        "        \"checkCapital\": {\"SE\": \"[SUJ] is capital of [OBJ]?\", \"NSE\":\"Is It capital of [OBJ]?\"},\n",
        "    },\n",
        "    \"Organization\":{\n",
        "        \"abbrev\" : {\"SE\": \"What is the abbreviation of [SUJ]?\", \"NSE\":\"What is [PRO] abbreviation?\"},\n",
        "        \"isCompost\": {\"SE\": \"What are countries of [SUJ]?\", \"NSE\":\"What are [PRO]s countries?\"},\n",
        "        \"checkOrganization\": {\"SE\": \"[SUJ] has [OBJ]?\", \"NSE\": \"Does this organization have [OBJ]?\"}\n",
        "    }\n",
        "}"
      ],
      "metadata": {
        "id": "fOKUYNvlsnCm"
      },
      "execution_count": 119,
      "outputs": []
    },
    {
      "cell_type": "code",
      "source": [],
      "metadata": {
        "id": "BJNYzvQbsAfD"
      },
      "execution_count": null,
      "outputs": []
    },
    {
      "cell_type": "markdown",
      "source": [
        "#### Definição: Todas as consultas sparql possiveis baseados nos templates"
      ],
      "metadata": {
        "id": "ANtJT8PFLHMs"
      }
    },
    {
      "cell_type": "code",
      "source": [
        "#Seleção de Conteudo\n",
        "from rdflib.namespace import RDF, RDFS, XSD, OWL\n",
        "from rdflib import Namespace\n",
        "\n",
        "site = Namespace(\"http://www.semwebtech.org/mondial/10/meta#\")\n",
        "\n",
        "g.bind(\"owl\", OWL)\n",
        "g.bind(\"rdf\", RDF)\n",
        "g.bind(\"rdfs\", RDFS)\n",
        "g.bind(\"xsd\", XSD)\n",
        "g.bind(\"mon\", site)\n",
        "\n",
        "getCountry = g.query(\"\"\"select ?Y  where {?X rdf:type mon:Country; mon:name ?Y }\"\"\")\n",
        "getCountryAndYear = g.query(\"\"\" select ?Y ?W  where {?X rdf:type mon:Country; mon:name ?Y; \n",
        "  mon:hadPopulation ?Z . ?Z mon:year ?W \n",
        " } \"\"\")\n",
        "getCountryAndCity = g.query(\"\"\" select ?W ?A  where {?X rdf:type mon:Country; mon:hasCity ?Z; mon:name ?W .  ?Z rdf:type mon:City ; mon:name ?A }\"\"\")\n",
        "getCity = g.query(\"\"\"select ?Y  where {?X rdf:type mon:City; mon:name ?Y }\"\"\")\n",
        "getCityAndCountry = g.query(\"\"\" select ?A ?W  where {?X rdf:type mon:Country; mon:hasCity ?Z; mon:name ?W .  ?Z rdf:type mon:City ; mon:name ?A }\"\"\")\n",
        "getOrganization = g.query(\"\"\"select ?Y  where {?X rdf:type mon:Organization; mon:name ?Y }\"\"\")\n",
        "getOrganizationAndCountry = g.query(\"\"\"select ?O ?W  where {?X rdf:type mon:Country; mon:isMember ?Z; mon:name ?W . ?Z rdf:type mon:Organization ; mon:name ?O }\"\"\")\n",
        "\n",
        "sparqlQueries = {\n",
        "      \"government\":getCountry,\n",
        "      \"area\":getCountry ,\n",
        "      \"capital\":getCountry,\n",
        "      \"carCode\":getCountry,\n",
        "      \"infantMortality\":getCountry,\n",
        "      \"hasCity\":getCountryAndCity,\n",
        "      \"hadPopulation\":getCountryAndYear,\n",
        "      \"isMember\":getCountry,\n",
        "      \"locatedIn\":getCity,\n",
        "      \"isCapital\": getCity,\n",
        "      \"checkCapital\":getCityAndCountry,\n",
        "      \"abbrev\":getOrganization,\n",
        "      \"isCompost\":getOrganization,\n",
        "      \"checkOrganization\":getOrganizationAndCountry\n",
        "}"
      ],
      "metadata": {
        "id": "-f1U6ghUWfEM"
      },
      "execution_count": 133,
      "outputs": []
    },
    {
      "cell_type": "markdown",
      "source": [
        "#### Seleção de templates"
      ],
      "metadata": {
        "id": "JYbdMG97MLGt"
      }
    },
    {
      "cell_type": "code",
      "source": [
        "#Seleção de Templates\n",
        "import random\n",
        "\n",
        "totalExamples = 4\n",
        "utterances = []\n",
        "for i in range(totalExamples):\n",
        "  paragraph = str(i+1)\n",
        "  domain = random.choice(domains)\n",
        "  properties = list(dictionaryTemplateFromData[domain].keys())\n",
        "  for order in orderToGenerate:\n",
        "    sentence = str(order[0])\n",
        "    typeSentence = order[1]\n",
        "    property_selected =  random.choice(properties)\n",
        "    utterance = dictionaryTemplateFromData[domain][property_selected][typeSentence]\n",
        "    utterances.append([paragraph + '.'+sentence, property_selected, utterance])\n",
        "    properties.remove(property_selected)\n",
        "\n",
        "print(utterances)\n",
        "\n"
      ],
      "metadata": {
        "colab": {
          "base_uri": "https://localhost:8080/"
        },
        "id": "byvkoO4BJKTG",
        "outputId": "3b7bcce8-ee1f-44ff-ed94-215b2270474e"
      },
      "execution_count": 134,
      "outputs": [
        {
          "output_type": "stream",
          "name": "stdout",
          "text": [
            "[['1.1', 'hadPopulation', 'What was the total population in [OBJ] of [SUJ]?'], ['1.2', 'area', 'What is [PRO] area?'], ['2.1', 'checkCapital', '[SUJ] is capital of [OBJ]?'], ['2.2', 'locatedIn', 'What is [PRO] location?'], ['3.1', 'isCapital', '[SUJ] is capital?'], ['3.2', 'locatedIn', 'What is [PRO] location?'], ['4.1', 'locatedIn', 'What is location of [SUJ]?'], ['4.2', 'isCapital', 'Is a capital?']]\n"
          ]
        }
      ]
    },
    {
      "cell_type": "markdown",
      "source": [
        "#### Seleção de Conteudo"
      ],
      "metadata": {
        "id": "4Zwsi9XQMP8S"
      }
    },
    {
      "cell_type": "code",
      "source": [
        "\n",
        "\n",
        "resultSparql = []\n",
        "finalUtterances = []\n",
        "codes = []\n",
        "for (code, property_selected, utterance) in utterances:\n",
        "  rows = sparqlQueries[property_selected]\n",
        "  result = [row for row in rows]\n",
        "  resultSparql.append(random.choice(result))\n",
        "  finalUtterances.append(utterance)\n",
        "  codes.append(code)\n",
        "  \n",
        "print(resultSparql)"
      ],
      "metadata": {
        "colab": {
          "base_uri": "https://localhost:8080/"
        },
        "id": "M8ETisfKJhzI",
        "outputId": "13ddb45a-38c0-49b4-f8c6-a693c14a837d"
      },
      "execution_count": 135,
      "outputs": [
        {
          "output_type": "stream",
          "name": "stdout",
          "text": [
            "[(rdflib.term.Literal('Finland'), rdflib.term.Literal('2017', datatype=rdflib.term.URIRef('http://www.w3.org/2001/XMLSchema#gYear'))), (rdflib.term.Literal('Serbia'),), (rdflib.term.Literal('Nancy'), rdflib.term.Literal('France')), (rdflib.term.Literal('Akisar'),), (rdflib.term.Literal('Rochdale'),), (rdflib.term.Literal('Amersfoort'),), (rdflib.term.Literal('Konya'),), (rdflib.term.Literal('Bielsko-BiaÅ‚a'),)]\n"
          ]
        }
      ]
    },
    {
      "cell_type": "markdown",
      "source": [
        "####Lexicalização e Geração de Expressão"
      ],
      "metadata": {
        "id": "cd77TpotMUQW"
      }
    },
    {
      "cell_type": "code",
      "source": [
        "#Lexicalização e Geração de Expressão\n",
        "finalUtterances = finalUtterances\n",
        "resultSparql = resultSparql\n",
        "codes = codes\n",
        "result = []\n",
        "for i in range(len(finalUtterances)):\n",
        "  t = finalUtterances[i]\n",
        "  r = resultSparql[i]\n",
        "  c = codes[i]\n",
        "  label = \"PREVIOUS TOPIC\"\n",
        "  if(\"[SUJ]\" in t):\n",
        "    label = \"SELF EXPLANATORY\"\n",
        "    t = t.replace(\"[SUJ]\", str(r[0]))\n",
        "\n",
        "  if(\"[OBJ]\" in t):\n",
        "    t = t.replace(\"[OBJ]\", str(r[1]))\n",
        "\n",
        "  if(\"[PRO]\" in t):\n",
        "    if(i==1):\n",
        "      label = \"FIRST TOPIC\"\n",
        "      \n",
        "    pro = random.choice(pronoms)\n",
        "    t = t.replace(\"[PRO]\", pro)\n",
        "\n",
        "  result.append((c, t, label))\n",
        "\n",
        "print(result)"
      ],
      "metadata": {
        "colab": {
          "base_uri": "https://localhost:8080/"
        },
        "id": "J35hOTTsJTW-",
        "outputId": "ee76f310-ba63-4ab7-e584-10f109318081"
      },
      "execution_count": 137,
      "outputs": [
        {
          "output_type": "stream",
          "name": "stdout",
          "text": [
            "[('1.1', 'What was the total population in 2017 of Finland?', 'SELF EXPLANATORY'), ('1.2', 'What is your area?', 'FIRST TOPIC'), ('2.1', 'Nancy is capital of France?', 'SELF EXPLANATORY'), ('2.2', 'What is your location?', 'PREVIOUS TOPIC'), ('3.1', 'Rochdale is capital?', 'SELF EXPLANATORY'), ('3.2', 'What is his/her location?', 'PREVIOUS TOPIC'), ('4.1', 'What is location of Konya?', 'SELF EXPLANATORY'), ('4.2', 'Is a capital?', 'PREVIOUS TOPIC')]\n"
          ]
        }
      ]
    },
    {
      "cell_type": "markdown",
      "source": [
        "### Testes"
      ],
      "metadata": {
        "id": "evFjJDORLP08"
      }
    },
    {
      "cell_type": "code",
      "source": [
        "#TESTS\n",
        "\n",
        "d = {'Name': 'Zabra', 'Age': 7, 'Year': 1237, \"Surname\":\"JR\"}\n",
        "row = [(\"Albania\",)]\n",
        "print(d.keys())\n",
        "txt = \"What is the government of [SUJ]?\"\n",
        "print(\"[SUJ]\" in txt)\n",
        "print(txt.replace(\"[SUJ]\", row[0][0]))\n",
        "import random\n",
        "data = random.choice(list(d.keys()))\n",
        "pronoms = (\"his/her\",\"your\")\n",
        "data = random.choice(pronoms)\n",
        "print(data)"
      ],
      "metadata": {
        "colab": {
          "base_uri": "https://localhost:8080/"
        },
        "id": "eT4H8tlfzfKU",
        "outputId": "c4070e5c-f725-4432-85c9-a55d0fb5de2e"
      },
      "execution_count": 40,
      "outputs": [
        {
          "output_type": "stream",
          "name": "stdout",
          "text": [
            "dict_keys(['Name', 'Age', 'Year', 'Surname'])\n",
            "True\n",
            "What is the government of Albania?\n",
            "his/her\n"
          ]
        }
      ]
    },
    {
      "cell_type": "code",
      "source": [
        "#TESTS\n",
        "\n",
        "pronoms = (\"his/her\",\"your\")\n",
        "utterances = [\"What is the government of [SUJ]?\", \"What was [PRO] total population in [OBJ]?\", \"What was the total population in [OBJ] of [SUJ]?\"]\n",
        "rows = [(\"Albania\",), (\"Albania\", \"1991\"), (\"Alemanha\", \"1950\")]\n",
        "result = []\n",
        "for i in range(len(txt)):\n",
        "  t = utterances[i]\n",
        "  r = rows[i]\n",
        " \n",
        "  if(\"[SUJ]\" in t):\n",
        "    label = \"SELF EXPLANATORY\"\n",
        "    t = t.replace(\"[SUJ]\", str(r[0]))\n",
        "\n",
        "  if(\"[OBJ]\" in t):\n",
        "    t = t.replace(\"[OBJ]\", str(r[1]))\n",
        "\n",
        "  if(\"[PRO]\" in t):\n",
        "    if(i==1):\n",
        "      label = \"FIRST TOPIC\"\n",
        "    else:\n",
        "      label = \"PREVIOUS TOPIC\"\n",
        "    pro = random.choice(pronoms)\n",
        "    t = t.replace(\"[PRO]\", pro)\n",
        "\n",
        "  result.append((t, label))\n",
        "\n",
        "print(result)\n"
      ],
      "metadata": {
        "colab": {
          "base_uri": "https://localhost:8080/"
        },
        "id": "HRdvP7TlH1-6",
        "outputId": "fc6d4bda-dbf5-44ce-a733-4b0c4698faa6"
      },
      "execution_count": 49,
      "outputs": [
        {
          "output_type": "stream",
          "name": "stdout",
          "text": [
            "[('What is the government of Albania?', 'SELF EXPLANATORY'), ('What was your total population in 1991?', 'FIRST TOPIC'), ('What was the total population in 1950 of Alemanha?', 'SELF EXPLANATORY')]\n"
          ]
        }
      ]
    },
    {
      "cell_type": "code",
      "source": [],
      "metadata": {
        "id": "KJynBJegusjo"
      },
      "execution_count": null,
      "outputs": []
    }
  ],
  "metadata": {
    "colab": {
      "provenance": [],
      "toc_visible": true
    },
    "kernelspec": {
      "display_name": "Python 3",
      "name": "python3"
    },
    "language_info": {
      "name": "python"
    }
  },
  "nbformat": 4,
  "nbformat_minor": 0
}